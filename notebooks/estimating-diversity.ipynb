{
 "cells": [
  {
   "cell_type": "markdown",
   "metadata": {},
   "source": [
    "# Estimating the Loss of Medieval Literature with an Unseen Species model from Ecodiversity"
   ]
  },
  {
   "cell_type": "code",
   "execution_count": 2,
   "metadata": {},
   "outputs": [],
   "source": [
    "import numpy as np\n",
    "np.random.seed(76451)\n",
    "import scipy.stats as stats\n",
    "from scipy.special import gammaln\n",
    "import pandas as pd\n",
    "import matplotlib.pyplot as plt\n",
    "import ptitprince as pt\n",
    "from functools import partial\n",
    "import seaborn as sb\n",
    "from tqdm import tqdm_notebook"
   ]
  },
  {
   "cell_type": "markdown",
   "metadata": {},
   "source": [
    "## The loss of works"
   ]
  },
  {
   "cell_type": "markdown",
   "metadata": {},
   "source": [
    "### Data"
   ]
  },
  {
   "cell_type": "markdown",
   "metadata": {},
   "source": [
    "Read the data on Middle Dutch chivalric epics (*Middelnederlandse ridderepiek*), mainly drawn from Kienhorst's acclaimed 1988 repertory:"
   ]
  },
  {
   "cell_type": "code",
   "execution_count": 3,
   "metadata": {},
   "outputs": [
    {
     "data": {
      "text/html": [
       "<div>\n",
       "<style scoped>\n",
       "    .dataframe tbody tr th:only-of-type {\n",
       "        vertical-align: middle;\n",
       "    }\n",
       "\n",
       "    .dataframe tbody tr th {\n",
       "        vertical-align: top;\n",
       "    }\n",
       "\n",
       "    .dataframe thead th {\n",
       "        text-align: right;\n",
       "    }\n",
       "</style>\n",
       "<table border=\"1\" class=\"dataframe\">\n",
       "  <thead>\n",
       "    <tr style=\"text-align: right;\">\n",
       "      <th></th>\n",
       "      <th>work</th>\n",
       "      <th>sigle</th>\n",
       "      <th>signature</th>\n",
       "      <th>fragmentary</th>\n",
       "    </tr>\n",
       "  </thead>\n",
       "  <tbody>\n",
       "    <tr>\n",
       "      <th>0</th>\n",
       "      <td>Aiol (1)</td>\n",
       "      <td>H1</td>\n",
       "      <td>Leiden, UB, BPL 1049; Brussel, KB, IV 816</td>\n",
       "      <td>True</td>\n",
       "    </tr>\n",
       "    <tr>\n",
       "      <th>1</th>\n",
       "      <td>Aiol (2)</td>\n",
       "      <td>H2</td>\n",
       "      <td>Breda, Arch. Begijnhof, z.s.</td>\n",
       "      <td>True</td>\n",
       "    </tr>\n",
       "    <tr>\n",
       "      <th>2</th>\n",
       "      <td>Alexanders geesten</td>\n",
       "      <td>München, Bayerische Staatsbibliotheek, Cod. ge...</td>\n",
       "      <td>München, Bayerische Staatsbibliotheek, Cod. ge...</td>\n",
       "      <td>False</td>\n",
       "    </tr>\n",
       "    <tr>\n",
       "      <th>3</th>\n",
       "      <td>Alexanders geesten</td>\n",
       "      <td>H3</td>\n",
       "      <td>Gent, UB, 2749,6</td>\n",
       "      <td>True</td>\n",
       "    </tr>\n",
       "    <tr>\n",
       "      <th>4</th>\n",
       "      <td>Alexanders geesten</td>\n",
       "      <td>H4</td>\n",
       "      <td>Leiden, UB, Ltk. 1196</td>\n",
       "      <td>True</td>\n",
       "    </tr>\n",
       "  </tbody>\n",
       "</table>\n",
       "</div>"
      ],
      "text/plain": [
       "                 work                                              sigle  \\\n",
       "0            Aiol (1)                                                 H1   \n",
       "1            Aiol (2)                                                 H2   \n",
       "2  Alexanders geesten  München, Bayerische Staatsbibliotheek, Cod. ge...   \n",
       "3  Alexanders geesten                                                 H3   \n",
       "4  Alexanders geesten                                                 H4   \n",
       "\n",
       "                                           signature  fragmentary  \n",
       "0          Leiden, UB, BPL 1049; Brussel, KB, IV 816         True  \n",
       "1                       Breda, Arch. Begijnhof, z.s.         True  \n",
       "2  München, Bayerische Staatsbibliotheek, Cod. ge...        False  \n",
       "3                                   Gent, UB, 2749,6         True  \n",
       "4                              Leiden, UB, Ltk. 1196         True  "
      ]
     },
     "execution_count": 3,
     "metadata": {},
     "output_type": "execute_result"
    }
   ],
   "source": [
    "df = pd.read_excel('../data/mnl_chiv.xlsx', header=None)\n",
    "df.columns = ('work', 'sigle', 'signature', 'fragmentary')\n",
    "df.head()"
   ]
  },
  {
   "cell_type": "markdown",
   "metadata": {},
   "source": [
    "Turn this tabular data into abundance data:"
   ]
  },
  {
   "cell_type": "code",
   "execution_count": 4,
   "metadata": {},
   "outputs": [
    {
     "data": {
      "text/html": [
       "<div>\n",
       "<style scoped>\n",
       "    .dataframe tbody tr th:only-of-type {\n",
       "        vertical-align: middle;\n",
       "    }\n",
       "\n",
       "    .dataframe tbody tr th {\n",
       "        vertical-align: top;\n",
       "    }\n",
       "\n",
       "    .dataframe thead th {\n",
       "        text-align: right;\n",
       "    }\n",
       "</style>\n",
       "<table border=\"1\" class=\"dataframe\">\n",
       "  <thead>\n",
       "    <tr style=\"text-align: right;\">\n",
       "      <th></th>\n",
       "      <th># works</th>\n",
       "      <th># witnesses</th>\n",
       "    </tr>\n",
       "  </thead>\n",
       "  <tbody>\n",
       "    <tr>\n",
       "      <th>1</th>\n",
       "      <td>45</td>\n",
       "      <td>1</td>\n",
       "    </tr>\n",
       "    <tr>\n",
       "      <th>2</th>\n",
       "      <td>13</td>\n",
       "      <td>2</td>\n",
       "    </tr>\n",
       "    <tr>\n",
       "      <th>3</th>\n",
       "      <td>6</td>\n",
       "      <td>3</td>\n",
       "    </tr>\n",
       "    <tr>\n",
       "      <th>4</th>\n",
       "      <td>2</td>\n",
       "      <td>4</td>\n",
       "    </tr>\n",
       "    <tr>\n",
       "      <th>5</th>\n",
       "      <td>4</td>\n",
       "      <td>5</td>\n",
       "    </tr>\n",
       "    <tr>\n",
       "      <th>6</th>\n",
       "      <td>1</td>\n",
       "      <td>6</td>\n",
       "    </tr>\n",
       "    <tr>\n",
       "      <th>7</th>\n",
       "      <td>1</td>\n",
       "      <td>7</td>\n",
       "    </tr>\n",
       "    <tr>\n",
       "      <th>10</th>\n",
       "      <td>2</td>\n",
       "      <td>10</td>\n",
       "    </tr>\n",
       "    <tr>\n",
       "      <th>17</th>\n",
       "      <td>1</td>\n",
       "      <td>17</td>\n",
       "    </tr>\n",
       "    <tr>\n",
       "      <th>Total #</th>\n",
       "      <td>75</td>\n",
       "      <td>167</td>\n",
       "    </tr>\n",
       "  </tbody>\n",
       "</table>\n",
       "</div>"
      ],
      "text/plain": [
       "         # works  # witnesses\n",
       "1             45            1\n",
       "2             13            2\n",
       "3              6            3\n",
       "4              2            4\n",
       "5              4            5\n",
       "6              1            6\n",
       "7              1            7\n",
       "10             2           10\n",
       "17             1           17\n",
       "Total #       75          167"
      ]
     },
     "execution_count": 4,
     "metadata": {},
     "output_type": "execute_result"
    }
   ],
   "source": [
    "types = df.groupby('work').size().sort_values(ascending=False).value_counts().sort_index()\n",
    "types = types.to_frame(name='# works')\n",
    "types['# witnesses'] = types.index\n",
    "types.loc['Total #']  = (types['# works'].sum(), np.sum(types['# works'] * types['# witnesses']))\n",
    "types"
   ]
  },
  {
   "cell_type": "code",
   "execution_count": 5,
   "metadata": {},
   "outputs": [
    {
     "name": "stdout",
     "output_type": "stream",
     "text": [
      "\\begin{tabular}{rr}\n",
      "\\toprule\n",
      " \\# works &  \\# witnesses \\\\\n",
      "\\midrule\n",
      "      45 &            1 \\\\\n",
      "      13 &            2 \\\\\n",
      "       6 &            3 \\\\\n",
      "       2 &            4 \\\\\n",
      "       4 &            5 \\\\\n",
      "       1 &            6 \\\\\n",
      "       1 &            7 \\\\\n",
      "       2 &           10 \\\\\n",
      "       1 &           17 \\\\\n",
      "      75 &          167 \\\\\n",
      "\\bottomrule\n",
      "\\end{tabular}\n",
      "\n"
     ]
    }
   ],
   "source": [
    "print(types.to_latex(index=False))"
   ]
  },
  {
   "cell_type": "code",
   "execution_count": 6,
   "metadata": {},
   "outputs": [
    {
     "data": {
      "text/plain": [
       "array([ 1,  1,  1,  5,  2,  1,  2,  1,  1,  3,  1,  1,  2,  1,  1,  2,  1,\n",
       "        1,  1,  2,  1,  1,  1,  1,  1, 17,  1,  4,  1,  7,  1,  1,  1,  1,\n",
       "        2, 10,  4,  1,  3,  1,  1,  1,  1,  1,  1,  1,  1,  6,  1,  2,  5,\n",
       "        5,  3,  2,  3,  1,  1,  3, 10,  2,  5,  1,  2,  2,  1,  1,  2,  1,\n",
       "        1,  2,  1,  1,  1,  1,  3])"
      ]
     },
     "execution_count": 6,
     "metadata": {},
     "output_type": "execute_result"
    }
   ],
   "source": [
    "cnts = df.groupby('work').size().values # ignore zero\n",
    "cnts"
   ]
  },
  {
   "cell_type": "markdown",
   "metadata": {},
   "source": [
    "### Estimators"
   ]
  },
  {
   "cell_type": "markdown",
   "metadata": {},
   "source": [
    "#### Chao1"
   ]
  },
  {
   "cell_type": "code",
   "execution_count": 7,
   "metadata": {},
   "outputs": [],
   "source": [
    "def chao_richness(x):\n",
    "    x, n = x[x > 0], x.sum()\n",
    "    t = x.shape[0]\n",
    "    f1, f2 = (x == 1).sum(), (x == 2).sum()\n",
    "    return t + (n - 1) / n * ((f1 ** 2 / 2 / f2) if f2 > 0 else (f1 * (f1 - 1) / 2))"
   ]
  },
  {
   "cell_type": "code",
   "execution_count": 8,
   "metadata": {},
   "outputs": [
    {
     "data": {
      "text/plain": [
       "152.41824044219254"
      ]
     },
     "execution_count": 8,
     "metadata": {},
     "output_type": "execute_result"
    }
   ],
   "source": [
    "chao_richness(cnts)"
   ]
  },
  {
   "cell_type": "code",
   "execution_count": 9,
   "metadata": {},
   "outputs": [],
   "source": [
    "def bt_prob(x):\n",
    "    x, n = x[x > 0], x.sum()\n",
    "    f1, f2 = (x == 1).sum(), (x == 2).sum()\n",
    "    C = 1 - f1 / n * (((n - 1) * f1 / ((n - 1) * f1 + 2 * f2)) if f2 > 0 else\n",
    "                      ((n - 1) * (f1 - 1) / ((n - 1) * (f1 - 1) + 2)) if f1 > 0 else\n",
    "                      0)\n",
    "    W = (1 - C) / np.sum(x / n * (1 - x / n) ** n)\n",
    "    p = x / n * (1 - W * (1 - x / n) ** n)\n",
    "    f0 = np.ceil(((n - 1) / n * f1 ** 2 / (2 * f2)) if f2 > 0 else\n",
    "                 ((n - 1) / n * f1 * (f1 - 1) / 2))\n",
    "    p0 = (1 - C) / f0\n",
    "    p = np.hstack((p, np.array([p0 for i in np.arange(f0)])))\n",
    "    return p\n",
    "\n",
    "\n",
    "def bootstrap(x, fn=chao_richness, n_iter=1000, conf=.95):\n",
    "    # define a multinomial probability distribution\n",
    "    # for the bootstrap procedure to sample from:\n",
    "    p, n = bt_prob(x), x.sum()\n",
    "    data_bt = np.random.multinomial(n, p, n_iter)\n",
    "    \n",
    "    pro = np.array([fn(row) for row in data_bt])\n",
    "    \n",
    "    pro_mean = pro.mean(0)\n",
    "    \n",
    "    lci_pro = -np.quantile(pro, (1 - conf) / 2, axis=0) + pro_mean\n",
    "    uci_pro = np.quantile(pro, 1 - (1 - conf) / 2, axis=0) - pro_mean\n",
    "\n",
    "    sd_pro = np.std(pro, axis=0)\n",
    "\n",
    "    pro = pro_mean - pro\n",
    "    return (lci_pro, uci_pro, sd_pro, pro)"
   ]
  },
  {
   "cell_type": "code",
   "execution_count": 10,
   "metadata": {},
   "outputs": [],
   "source": [
    "def chao_estimate(x, n_iter=10000, conf=0.95):\n",
    "    pro = chao_richness(x)\n",
    "    (lci_pro, uci_pro, sd_pro, bt_pro) = bootstrap(x, fn=chao_richness, n_iter=n_iter, conf=conf)\n",
    "    lci_pro, uci_pro = pro - lci_pro, pro + uci_pro\n",
    "    bt_pro = pro - bt_pro\n",
    "    return (lci_pro, uci_pro, bt_pro, pro)"
   ]
  },
  {
   "cell_type": "code",
   "execution_count": 11,
   "metadata": {},
   "outputs": [
    {
     "name": "stdout",
     "output_type": "stream",
     "text": [
      "Chao1: 152.42 CI(110.46 - 225.73)\n"
     ]
    }
   ],
   "source": [
    "lci_pro, uci_pro, chao1_pro, pro = chao_estimate(cnts)\n",
    "print(f'Chao1: {pro:.2f} CI({lci_pro:.2f} - {uci_pro:.2f})')"
   ]
  },
  {
   "cell_type": "markdown",
   "metadata": {},
   "source": [
    "#### Jackknife"
   ]
  },
  {
   "cell_type": "code",
   "execution_count": 12,
   "metadata": {},
   "outputs": [],
   "source": [
    "def dbinom(x, size, prob):\n",
    "    d = stats.binom(size, prob).pmf(x)\n",
    "    return 1 if np.isnan(d) else d\n",
    "\n",
    "\n",
    "def jackknife(data, k=5, conf=0.95):\n",
    "    k0, k = k, min(len(np.unique(data)) - 1, 10)\n",
    "    n = np.bincount(data)[1:]\n",
    "    n = np.array((np.arange(1, n.shape[0] + 1), n)).T\n",
    "    total = n[:, 1].sum()\n",
    "    gene = np.zeros((k + 1, 5))\n",
    "    gene[0, 0] = total\n",
    "    for i in range(1, k + 1):\n",
    "        gene[i, 0] = total\n",
    "        gene[i, 3] = total\n",
    "        for j in range(1, i + 1):\n",
    "            gene[i, 0] = (\n",
    "                gene[i, 0] +\n",
    "                (-1)**(j + 1) * 2**i * dbinom(j, i, 0.5) * n[j - 1, 1])\n",
    "            gene[i, 3] = gene[i, 3] + (-1)**(j + 1) * 2**i * dbinom(\n",
    "                j, i, 0.5) * n[j - 1, 1] * np.prod(np.arange(1, j + 1))\n",
    "        gene[i, 1] = -gene[i, 0]\n",
    "        for j in range(1, i + 1):\n",
    "            gene[i, 1] = (gene[i, 1] + (\n",
    "                (-1)**(j + 1) * 2**i * dbinom(j, i, 0.5) + 1)**2 * n[j - 1, 1])\n",
    "        gene[i, 1] = np.sqrt(gene[i, 1] + n[i:, 1].sum())\n",
    "    if k > 1:\n",
    "        for i in range(2, k + 1):\n",
    "            gene[i - 1, 2] = -(gene[i, 0] - gene[i - 1, 0])**2 / (total - 1)\n",
    "            for j in range(1, i):\n",
    "                gene[i - 1, 2] = gene[i - 1, 2] + (\n",
    "                    (-1)**(j + 1) * 2**(i) * dbinom(j, i, 0.5) -\n",
    "                    (-1)**(j + 1) * 2**(i - 1) * dbinom(j, i - 1, 0.5)\n",
    "                )**2 * n[j - 1, 1] * total / (total - 1)\n",
    "            gene[i - 1, 2] = np.sqrt(gene[i - 1, 2] + n[i - 1, 1] * total /\n",
    "                                     (total - 1))\n",
    "            gene[i - 1, 4] = (gene[i, 0] - gene[i - 1, 0]) / gene[i - 1, 2]\n",
    "    coe = stats.norm().ppf(1 - (1 - 0.95) / 2)\n",
    "    x = gene[1:k + 1, 4] < coe\n",
    "    if x.sum() == 0:\n",
    "        jackest = gene[k, 0]\n",
    "        sej = gene[k, 1]\n",
    "        order = 1\n",
    "    else:\n",
    "        indicator = np.arange(1, k + 1)\n",
    "        jackest = gene[indicator[x][0], 0]\n",
    "        sej = gene[indicator[x][0], 1]\n",
    "        order = np.arange(1, k + 2)[indicator[x][0]] - 1\n",
    "    if k0 <= order:\n",
    "        jackest = gene[k0, 0]\n",
    "        sej = gene[k0, 1]\n",
    "        order = k0\n",
    "    return jackest, sej, order, jackest - coe * sej, jackest + coe * sej"
   ]
  },
  {
   "cell_type": "code",
   "execution_count": 13,
   "metadata": {},
   "outputs": [
    {
     "name": "stdout",
     "output_type": "stream",
     "text": [
      "Jackknife (@order=3): 177.00 CI(127.81 - 226.19)\n"
     ]
    }
   ],
   "source": [
    "jk, sej, order, jk_lci, jk_uci = jackknife(cnts)\n",
    "print(f'Jackknife (@order={order}): {jk:.2f} CI({jk_lci:.2f} - {jk_uci:.2f})')"
   ]
  },
  {
   "cell_type": "markdown",
   "metadata": {},
   "source": [
    "#### Egghe & Proot"
   ]
  },
  {
   "cell_type": "code",
   "execution_count": 14,
   "metadata": {},
   "outputs": [],
   "source": [
    "def ep(counts, alpha=500):\n",
    "    ft = np.bincount(counts)[1:]\n",
    "    S = ft.sum()\n",
    "    P1, P2 = (counts == 1).sum(), (counts == 2).sum()\n",
    "    P0 = (1 / (1 + (2 / (alpha - 1)) * (P2 / P1))) ** alpha\n",
    "    S_lost = S * (P0 / (1 - P0))\n",
    "    S_lost = S + S_lost\n",
    "    return S_lost if not np.isinf(S_lost) else np.nan"
   ]
  },
  {
   "cell_type": "code",
   "execution_count": 15,
   "metadata": {},
   "outputs": [],
   "source": [
    "ep_score = ep(cnts)"
   ]
  },
  {
   "cell_type": "code",
   "execution_count": 16,
   "metadata": {},
   "outputs": [],
   "source": [
    "def ep_estimate(x, n_iter=10000, conf=0.95):\n",
    "    pro = ep(x)\n",
    "    (lci_pro, uci_pro, sd_pro, bt_pro) = bootstrap(x, fn=ep, n_iter=n_iter, conf=conf)\n",
    "    lci_pro, uci_pro = pro - lci_pro, pro + uci_pro\n",
    "    bt_pro = pro - bt_pro\n",
    "    return (lci_pro, uci_pro, bt_pro, pro)"
   ]
  },
  {
   "cell_type": "code",
   "execution_count": 17,
   "metadata": {},
   "outputs": [
    {
     "name": "stdout",
     "output_type": "stream",
     "text": [
      "Egghe & Proot: 170.72 CI(115.35 - 273.76)\n"
     ]
    }
   ],
   "source": [
    "lci_pro, uci_pro, ep_pro, pro = ep_estimate(cnts)\n",
    "print(f'Egghe & Proot: {pro:.2f} CI({lci_pro:.2f} - {uci_pro:.2f})')"
   ]
  },
  {
   "cell_type": "code",
   "execution_count": 18,
   "metadata": {},
   "outputs": [
    {
     "data": {
      "image/png": "[encoded data removed]",
      "text/plain": [
       "<Figure size 432x576 with 1 Axes>"
      ]
     },
     "metadata": {
      "needs_background": "light"
     },
     "output_type": "display_data"
    }
   ],
   "source": [
    "d = list([(x, 'Chao1') for x in chao1_pro])\n",
    "d += list([(x, 'EP') for x in ep_pro])\n",
    "bt = pd.DataFrame(d, columns=('bootstrap', 'Estimator'))\n",
    "bt\n",
    "\n",
    "fig, ax = plt.subplots(figsize=(6, 8))\n",
    "pt.RainCloud(\n",
    "    data=bt, x=\"Estimator\", y=\"bootstrap\", ax=ax, \n",
    "    orient=\"h\", alpha=.8, bw=.2, rain_alpha=.3,\n",
    ");\n",
    "\n",
    "ax.axvline(jk, c='grey')\n",
    "ax.axvline(jk_lci, c='grey', ls='--')\n",
    "ax.axvline(jk_uci, c='grey', ls='--')\n",
    "ax.set_xlabel('Number of unseen works')\n",
    "\n",
    "ax.set_xlim([50, 400]);"
   ]
  },
  {
   "cell_type": "markdown",
   "metadata": {},
   "source": [
    "## The loss of documents"
   ]
  },
  {
   "cell_type": "markdown",
   "metadata": {},
   "source": [
    "### Maculature"
   ]
  },
  {
   "cell_type": "markdown",
   "metadata": {},
   "source": [
    "Our data indicate whether a witness has survived fragmentarily (as \"maculature\") or not. In the former case, remnants of the very  same source have sometimes emerged in different locales. These can also be treated as different sightings of a manuscript, which allows us to estimate (a lower bound for) the total number of manuscripts that were once cut up to be recycled. (Note that this is a different number from the total population size of Middle Dutch manuscripts in this genre.)"
   ]
  },
  {
   "cell_type": "code",
   "execution_count": 19,
   "metadata": {},
   "outputs": [],
   "source": [
    "mss_cnts = []\n",
    "for sign, fragm in zip(df['signature'], df['fragmentary']):\n",
    "    if fragm: # we ignore witnesses that survived in full\n",
    "        try:\n",
    "            mss_cnts.append(len(sign.split(';')))\n",
    "        except AttributeError:\n",
    "            pass\n",
    "mss_cnts = np.array(mss_cnts)"
   ]
  },
  {
   "cell_type": "code",
   "execution_count": 20,
   "metadata": {},
   "outputs": [
    {
     "data": {
      "image/png": "[encoded data removed]",
      "text/plain": [
       "<Figure size 432x288 with 1 Axes>"
      ]
     },
     "metadata": {
      "needs_background": "light"
     },
     "output_type": "display_data"
    }
   ],
   "source": [
    "labels, counts = np.unique(mss_cnts, return_counts=True)\n",
    "plt.bar(labels, counts, align='center')\n",
    "plt.gca().set_xticks(labels);"
   ]
  },
  {
   "cell_type": "code",
   "execution_count": 21,
   "metadata": {},
   "outputs": [
    {
     "name": "stdout",
     "output_type": "stream",
     "text": [
      "number of fragments: 181\n",
      "number of documents: 141\n",
      "f1: 118\n",
      "f2: 14\n"
     ]
    }
   ],
   "source": [
    "x = mss_cnts\n",
    "x, n = x[x > 0], x.sum()\n",
    "t = x.shape[0]\n",
    "f1, f2 = (x == 1).sum(), (x == 2).sum()\n",
    "print('number of fragments:', n)\n",
    "print('number of documents:', t)\n",
    "print('f1:', f1)\n",
    "print('f2:', f2)"
   ]
  },
  {
   "cell_type": "code",
   "execution_count": 22,
   "metadata": {},
   "outputs": [
    {
     "name": "stdout",
     "output_type": "stream",
     "text": [
      "Chao1 (maculature): 635.54 CI(450.32 - 955.84)\n"
     ]
    }
   ],
   "source": [
    "mac_lci_pro, mac_uci_pro, mac_chao1_pro, mac_pro = chao_estimate(mss_cnts)\n",
    "print(f'Chao1 (maculature): {mac_pro:.2f} CI({mac_lci_pro:.2f} - {mac_uci_pro:.2f})')"
   ]
  },
  {
   "cell_type": "markdown",
   "metadata": {},
   "source": [
    "### Minimum sampling"
   ]
  },
  {
   "cell_type": "code",
   "execution_count": 23,
   "metadata": {},
   "outputs": [],
   "source": [
    "def minsample(x):\n",
    "    n = x.sum()\n",
    "    x = x[x > 0]\n",
    "    t = x.shape[0]\n",
    "    f1, f2 = (x == 1).sum(), (x == 2).sum()\n",
    "    h = lambda x: 2 * f1 * (1 + x)\n",
    "    v = lambda x: np.exp(x * (2 * f2 / f1))\n",
    "    \n",
    "    search_space = np.linspace(0, 100, 10000)\n",
    "    hs = np.array(h(search_space))\n",
    "    vs = np.array(v(search_space))\n",
    "    diffs = np.abs(hs - vs)\n",
    "    x_ast = search_space[diffs.argmin()]\n",
    "    return n * x_ast"
   ]
  },
  {
   "cell_type": "code",
   "execution_count": 24,
   "metadata": {},
   "outputs": [
    {
     "name": "stdout",
     "output_type": "stream",
     "text": [
      "Estimate: 8.1557911908646 % of documents survived\n"
     ]
    }
   ],
   "source": [
    "ms = minsample(cnts)\n",
    "print('Estimate:', 100 / (minsample(cnts) / cnts.sum()), '% of documents survived')"
   ]
  },
  {
   "cell_type": "code",
   "execution_count": 25,
   "metadata": {},
   "outputs": [],
   "source": [
    "def minsample_estimate(x, n_iter=10000, conf=0.95):\n",
    "    pro = minsample(x)\n",
    "    (lci_pro, uci_pro, sd_pro, bt_pro) = bootstrap(x, fn=minsample, n_iter=n_iter, conf=conf)\n",
    "    lci_pro, uci_pro = pro - lci_pro, pro + uci_pro\n",
    "    bt_pro = pro - bt_pro\n",
    "    return (lci_pro, uci_pro, bt_pro, pro)"
   ]
  },
  {
   "cell_type": "code",
   "execution_count": 26,
   "metadata": {},
   "outputs": [
    {
     "name": "stdout",
     "output_type": "stream",
     "text": [
      "Minimum sampling: 2047.62 CI(1072.02 - 3844.50)\n"
     ]
    }
   ],
   "source": [
    "lci, uci, bt_msample, ms = minsample_estimate(cnts)\n",
    "print(f'Minimum sampling: {ms:.2f} CI({lci:.2f} - {uci:.2f})')"
   ]
  },
  {
   "cell_type": "markdown",
   "metadata": {},
   "source": [
    "## Species Accumulation curve, with miminum sampling effort included"
   ]
  },
  {
   "cell_type": "code",
   "execution_count": 27,
   "metadata": {},
   "outputs": [],
   "source": [
    "def bootstrap_re(x, fn=chao_richness, n_iter=1000, conf=.95):\n",
    "    # define a multinomial probability distribution\n",
    "    # for the bootstrap procedure to sample from:\n",
    "    p, n = bt_prob(x), x.sum()\n",
    "    data_bt = np.random.multinomial(n, p, n_iter)\n",
    "    \n",
    "    Dq = fn(x)\n",
    "    \n",
    "    pro = np.array([fn(row) for row in data_bt])\n",
    "    \n",
    "    error = stats.norm.ppf(1 - (1 - conf) / 2) * np.std(pro, 0)\n",
    "    lci_pro = Dq - error\n",
    "    uci_pro = Dq + error\n",
    "\n",
    "    sd_pro = np.std(pro, axis=0)\n",
    "\n",
    "    return (lci_pro, uci_pro, sd_pro, Dq, )\n",
    "\n",
    "\n",
    "def rarefaction_extrapolation(x, max_steps):\n",
    "    x, n = x[x > 0], x.sum()\n",
    "    def _sub(m):\n",
    "        if m <= n:\n",
    "            return np.sum(1 - np.array(\n",
    "                [np.exp(gammaln(n - i + 1) + gammaln(n - m + 1) - \n",
    "                        gammaln(n - i - m + 1) - gammaln(n + 1)) if i <= (n - m) else\n",
    "                 0 for i in x]))\n",
    "        else:\n",
    "            S = (x > 0).sum()\n",
    "            f1, f2 = (x == 1).sum(), (x == 2).sum()\n",
    "            f0 = ((n - 1) / n * f1 * (f1 - 1) / 2) if f2 == 0 else ((n - 1) / n * f1**2 / 2 / f2)\n",
    "            A = n * f0 / (n * f0 + f1)\n",
    "            return S if f1 == 0 else (S + f0 * (1 - A**(m - n)))\n",
    "    return np.array([_sub(mi) for mi in range(1, max_steps)])"
   ]
  },
  {
   "cell_type": "code",
   "execution_count": 28,
   "metadata": {},
   "outputs": [],
   "source": [
    "num_docs = len(cnts) + int(minsample(cnts)) # n + m\n",
    "lci_pro, uci_pro, sd_pro, Dq = bootstrap_re(cnts, fn=partial(rarefaction_extrapolation, max_steps=num_docs),\n",
    "                                            n_iter=100)"
   ]
  },
  {
   "cell_type": "code",
   "execution_count": 29,
   "metadata": {},
   "outputs": [
    {
     "data": {
      "image/png": "[encoded data removed]",
      "text/plain": [
       "<Figure size 432x288 with 2 Axes>"
      ]
     },
     "metadata": {
      "needs_background": "light"
     },
     "output_type": "display_data"
    }
   ],
   "source": [
    "steps = np.arange(1, num_docs)\n",
    "interpolated = np.arange(1, num_docs) < cnts.sum()\n",
    "plt.plot(steps[interpolated], Dq[interpolated], color='C0')\n",
    "plt.plot(cnts.sum(), Dq[cnts.sum() - 1], 'o')\n",
    "plt.plot(steps[~interpolated], Dq[~interpolated], '--', color='C0')\n",
    "plt.fill_between(steps, lci_pro, uci_pro, alpha=0.3)\n",
    "plt.grid()\n",
    "plt.axvline(ms, ls='--', c='grey')\n",
    "plt.xlabel('documents')\n",
    "plt.ylabel('works')\n",
    "plt.title('Species Accumulation Curve')\n",
    "ax2 = plt.gca().twinx()\n",
    "ax2.plot(np.nan, '--', color='C0', label='species accumulation')\n",
    "sb.kdeplot(bt_msample, ax=ax2, color='grey', shade=True, label='minumum sampling')\n",
    "sb.kdeplot(mac_chao1_pro, ax=ax2, color='green', shade=True, label='maculature')\n",
    "ax2.legend(loc='center right')\n",
    "plt.xlim([0, 5000]);"
   ]
  },
  {
   "cell_type": "markdown",
   "metadata": {},
   "source": [
    "## Simulations"
   ]
  },
  {
   "cell_type": "markdown",
   "metadata": {},
   "source": [
    "In the seminal paper on Malaysian butterflies, R.A. Fischer proposed the logseries model to capture the relative abundance of species in an assemblage. The logseries predicts the number of species at different levels of abundance ($n$ individuals) with the formula:"
   ]
  },
  {
   "cell_type": "markdown",
   "metadata": {},
   "source": [
    "\\begin{equation*}\n",
    "S_n = \\alpha x^n / n\n",
    "\\end{equation*}"
   ]
  },
  {
   "cell_type": "code",
   "execution_count": 30,
   "metadata": {},
   "outputs": [],
   "source": [
    "def fisher_richness(idx, alpha, x_):\n",
    "    return (alpha * (x_ ** idx)) / idx"
   ]
  },
  {
   "cell_type": "markdown",
   "metadata": {},
   "source": [
    "Here, $S_n$ is the number of species with an abundance of $n$; $x$ = a positive constant ($0 < x < 1$) which is derived from the sample data set but generally approaches 1; $\\alpha$ finally is the number of singleton species in the assemblage. We can fit this model to the Middle Dutch data (that seems to follow a surprisingly similar distribution):"
   ]
  },
  {
   "cell_type": "code",
   "execution_count": 31,
   "metadata": {},
   "outputs": [
    {
     "data": {
      "image/png": "[encoded data removed]",
      "text/plain": [
       "<Figure size 432x288 with 1 Axes>"
      ]
     },
     "metadata": {
      "needs_background": "light"
     },
     "output_type": "display_data"
    }
   ],
   "source": [
    "counts = df.groupby('work').size().sort_values(ascending=False).values\n",
    "n_s = np.array(list(range(1, 20)))\n",
    "abundance = np.array([np.sum(counts == i)/np.sum(counts) for i in n_s])\n",
    "import scipy.optimize as optim\n",
    "popt, pcov = optim.curve_fit(fisher_richness, xdata=n_s, ydata=abundance,\n",
    "                             bounds=([0, 0.7], [100, 1.05]))\n",
    "plt.plot(n_s, fisher_richness(n_s, *popt), 'g--',\n",
    "         label='fit: alpha=%5.3f, x_=%5.3f' % tuple(popt))\n",
    "plt.plot(n_s, abundance, 'o', label='data', alpha=0.5);\n",
    "plt.legend();"
   ]
  },
  {
   "cell_type": "markdown",
   "metadata": {},
   "source": [
    "Fisher's logseries can be used to define a discrete probability distribution, parametrized by two values:\n",
    " - the number of singleton species in the population\n",
    " - the maximum number of attestations for a single species (to put a practical cap on the distribution)\n",
    "\n",
    "If we sample $num\\_species$ species from this probability distribution, we can simulate virtual assemblages that mimic the properties of the observed data."
   ]
  },
  {
   "cell_type": "code",
   "execution_count": 32,
   "metadata": {},
   "outputs": [
    {
     "data": {
      "text/plain": [
       "array([  0,   0,   1, ..., 250, 250, 250])"
      ]
     },
     "execution_count": 32,
     "metadata": {},
     "output_type": "execute_result"
    }
   ],
   "source": [
    "def fisher_pop(n, alpha=0.9, x=5, num_species=600):\n",
    "    \"\"\"\n",
    "    alpha = number of singleton species (f1)\n",
    "    n = max attestation frequency of a particular species\n",
    "    x = constant [0, 1], approx. 1\n",
    "    \"\"\"\n",
    "    orders = np.array([fisher_richness(i, alpha, x) for i in range(1, n + 1)])\n",
    "    props = orders / orders.sum()\n",
    "    assemblage = []\n",
    "    elements = [i + 1 for i in np.arange(n)]\n",
    "    for idx, sample in enumerate(np.random.choice(elements, num_species + 1, p=props)):\n",
    "        assemblage.extend(sample * [idx])\n",
    "    return np.array(assemblage)\n",
    "\n",
    "assemblage = fisher_pop(n=50, alpha=75, x=.99, num_species=250)\n",
    "assemblage"
   ]
  },
  {
   "cell_type": "code",
   "execution_count": 33,
   "metadata": {},
   "outputs": [
    {
     "data": {
      "image/png": "[encoded data removed]",
      "text/plain": [
       "<Figure size 1080x216 with 1 Axes>"
      ]
     },
     "metadata": {
      "needs_background": "light"
     },
     "output_type": "display_data"
    }
   ],
   "source": [
    "plt.figure(figsize=(15, 3))\n",
    "abundance_cnt = np.bincount(assemblage)[1:]\n",
    "labels, counts = np.unique(abundance_cnt, return_counts=True)\n",
    "plt.bar(labels, counts, align='center', alpha=0.7)\n",
    "plt.gca().set_xticks(labels);"
   ]
  },
  {
   "cell_type": "markdown",
   "metadata": {},
   "source": [
    "The original species in the simulated assemblage:"
   ]
  },
  {
   "cell_type": "code",
   "execution_count": 34,
   "metadata": {},
   "outputs": [
    {
     "name": "stdout",
     "output_type": "stream",
     "text": [
      "# works: 250\n",
      "# documents: 2567\n",
      "# singletons: 50 (20.00%)\n"
     ]
    }
   ],
   "source": [
    "print('# works:',  len(abundance_cnt))\n",
    "print('# documents:', abundance_cnt.sum())\n",
    "print('# singletons:', abundance_cnt[abundance_cnt == 1].sum(),\n",
    "      f'({abundance_cnt[abundance_cnt == 1].sum()/len(abundance_cnt) * 100 :.2f}%)')"
   ]
  },
  {
   "cell_type": "markdown",
   "metadata": {},
   "source": [
    "Next, we can stochastically sample (at certain \"keep rates\") from this population to simulate the historic loss of documents."
   ]
  },
  {
   "cell_type": "code",
   "execution_count": 35,
   "metadata": {},
   "outputs": [],
   "source": [
    "def loss(assemblage_, keep_rate):\n",
    "    assemblage_ = list(assemblage_)\n",
    "    np.random.shuffle(assemblage_)\n",
    "    retrieved = assemblage_[:int(len(assemblage_) * keep_rate)]\n",
    "    return np.array(retrieved)\n",
    "\n",
    "retrieved = loss(assemblage, keep_rate=0.20)"
   ]
  },
  {
   "cell_type": "markdown",
   "metadata": {},
   "source": [
    "Let us check what this sampling did to our statistics:"
   ]
  },
  {
   "cell_type": "code",
   "execution_count": 36,
   "metadata": {},
   "outputs": [
    {
     "name": "stdout",
     "output_type": "stream",
     "text": [
      "Impaired population:\n",
      "# works: 150\n",
      "# documents: 513\n",
      "# singletons: 61 (40.67%)\n"
     ]
    }
   ],
   "source": [
    "_, impaired_counts = np.unique(retrieved, return_counts=True)\n",
    "print('Impaired population:')\n",
    "print('# works:',  len(impaired_counts))\n",
    "print('# documents:', impaired_counts.sum())\n",
    "print('# singletons:', impaired_counts[impaired_counts == 1].sum(),\n",
    "      f'({impaired_counts[impaired_counts == 1].sum()/len(impaired_counts) * 100:.2f}%)')"
   ]
  },
  {
   "cell_type": "markdown",
   "metadata": {},
   "source": [
    "This makes sense (as is also illustrated in the plot below): the number of documents goes down by a factor of the keep rate and inevitably we lose some works, but not at the same rate (we primarily lose those that existed in low abundance in the original population). Perhaps counterintuitively, this also implies that the number of singletons should proportionally go up in the impaired sample."
   ]
  },
  {
   "cell_type": "code",
   "execution_count": 37,
   "metadata": {},
   "outputs": [
    {
     "data": {
      "image/png": "[encoded data removed]",
      "text/plain": [
       "<Figure size 1080x216 with 1 Axes>"
      ]
     },
     "metadata": {
      "needs_background": "light"
     },
     "output_type": "display_data"
    }
   ],
   "source": [
    "plt.figure(figsize=(15, 3))\n",
    "abundance_cnt = np.bincount(assemblage)[1:]\n",
    "labels, counts = np.unique(abundance_cnt, return_counts=True)\n",
    "plt.bar(labels, counts, align='center', alpha=0.5, label='original')\n",
    "\n",
    "impaired_labels_, impaired_counts_ = np.unique(impaired_counts, return_counts=True)\n",
    "plt.bar(impaired_labels_, impaired_counts_, align='center', alpha=0.5, label='retrieved')\n",
    "plt.legend();"
   ]
  },
  {
   "cell_type": "code",
   "execution_count": 38,
   "metadata": {},
   "outputs": [
    {
     "name": "stdout",
     "output_type": "stream",
     "text": [
      "247.73017338668308\n",
      "286.0\n",
      "323.20537893044275\n"
     ]
    }
   ],
   "source": [
    "print(chao_richness(impaired_counts))\n",
    "print(jackknife(impaired_counts)[0])\n",
    "print(ep(impaired_counts))"
   ]
  },
  {
   "cell_type": "markdown",
   "metadata": {},
   "source": [
    "### Loss of works"
   ]
  },
  {
   "cell_type": "code",
   "execution_count": 39,
   "metadata": {},
   "outputs": [],
   "source": [
    "from tqdm import tqdm\n",
    "\n",
    "def rmse(pred, true):\n",
    "    return np.sqrt((pred - true) ** 2)\n",
    "\n",
    "def e(pred, true):\n",
    "    return pred - true\n",
    "\n",
    "num_documents = np.arange(500, 2500, 100)\n",
    "keep_rates = np.linspace(0.05, 0.95, len(num_documents))\n",
    "n_experiments = 10\n",
    "\n",
    "num_works = 250\n",
    "f1 = 75\n",
    "x = .99"
   ]
  },
  {
   "cell_type": "code",
   "execution_count": 40,
   "metadata": {},
   "outputs": [
    {
     "name": "stderr",
     "output_type": "stream",
     "text": [
      "100%|██████████| 20/20 [09:55<00:00, 29.79s/it]\n"
     ]
    }
   ],
   "source": [
    "results, doc_results = [], []\n",
    "for i, num_doc in enumerate(tqdm(num_documents)):\n",
    "    for kr in keep_rates: \n",
    "        for j in range(n_experiments):\n",
    "            assemblage = fisher_pop(n=num_doc, alpha=f1, x=x, num_species=num_works)\n",
    "            retrieved = loss(assemblage, keep_rate=kr)\n",
    "            _, impaired_counts = np.unique(retrieved, return_counts=True)\n",
    "            results.append({'keep rate': kr, 'estimator': 'Egghe & Proot',\n",
    "                            'diversity': ep(impaired_counts, alpha=50),\n",
    "                            'num_documents': num_doc})\n",
    "            results.append({'keep rate': kr, 'estimator': 'Jackknife',\n",
    "                            'diversity': jackknife(impaired_counts)[0],\n",
    "                            'num_documents': num_doc})\n",
    "            results.append({'keep rate': kr, 'estimator': 'Chao1',\n",
    "                            'diversity': chao_richness(impaired_counts),\n",
    "                            'num_documents': i})\n",
    "            doc_results.append({'keep rate': kr, 'diversity': minsample(impaired_counts),\n",
    "                               'num_documents': num_doc})\n",
    "\n",
    "S_df = pd.DataFrame(results)\n",
    "D_df = pd.DataFrame(doc_results)"
   ]
  },
  {
   "cell_type": "code",
   "execution_count": 42,
   "metadata": {},
   "outputs": [],
   "source": [
    "S_df['Error'] = S_df['diversity'] - num_works\n",
    "S_df['AbsError'] = np.abs(S_df['Error'])"
   ]
  },
  {
   "cell_type": "code",
   "execution_count": 43,
   "metadata": {},
   "outputs": [
    {
     "data": {
      "text/html": [
       "<div>\n",
       "<style scoped>\n",
       "    .dataframe tbody tr th:only-of-type {\n",
       "        vertical-align: middle;\n",
       "    }\n",
       "\n",
       "    .dataframe tbody tr th {\n",
       "        vertical-align: top;\n",
       "    }\n",
       "\n",
       "    .dataframe thead th {\n",
       "        text-align: right;\n",
       "    }\n",
       "</style>\n",
       "<table border=\"1\" class=\"dataframe\">\n",
       "  <thead>\n",
       "    <tr style=\"text-align: right;\">\n",
       "      <th></th>\n",
       "      <th>keep rate</th>\n",
       "      <th>estimator</th>\n",
       "      <th>diversity</th>\n",
       "      <th>num_documents</th>\n",
       "      <th>Error</th>\n",
       "      <th>AbsError</th>\n",
       "    </tr>\n",
       "  </thead>\n",
       "  <tbody>\n",
       "    <tr>\n",
       "      <th>0</th>\n",
       "      <td>0.05</td>\n",
       "      <td>Egghe &amp; Proot</td>\n",
       "      <td>139.974451</td>\n",
       "      <td>500</td>\n",
       "      <td>-110.025549</td>\n",
       "      <td>110.025549</td>\n",
       "    </tr>\n",
       "    <tr>\n",
       "      <th>1</th>\n",
       "      <td>0.05</td>\n",
       "      <td>Jackknife</td>\n",
       "      <td>152.000000</td>\n",
       "      <td>500</td>\n",
       "      <td>-98.000000</td>\n",
       "      <td>98.000000</td>\n",
       "    </tr>\n",
       "    <tr>\n",
       "      <th>2</th>\n",
       "      <td>0.05</td>\n",
       "      <td>Chao1</td>\n",
       "      <td>130.800000</td>\n",
       "      <td>0</td>\n",
       "      <td>-119.200000</td>\n",
       "      <td>119.200000</td>\n",
       "    </tr>\n",
       "    <tr>\n",
       "      <th>3</th>\n",
       "      <td>0.05</td>\n",
       "      <td>Egghe &amp; Proot</td>\n",
       "      <td>145.352745</td>\n",
       "      <td>500</td>\n",
       "      <td>-104.647255</td>\n",
       "      <td>104.647255</td>\n",
       "    </tr>\n",
       "    <tr>\n",
       "      <th>4</th>\n",
       "      <td>0.05</td>\n",
       "      <td>Jackknife</td>\n",
       "      <td>154.000000</td>\n",
       "      <td>500</td>\n",
       "      <td>-96.000000</td>\n",
       "      <td>96.000000</td>\n",
       "    </tr>\n",
       "    <tr>\n",
       "      <th>5</th>\n",
       "      <td>0.05</td>\n",
       "      <td>Chao1</td>\n",
       "      <td>132.954665</td>\n",
       "      <td>0</td>\n",
       "      <td>-117.045335</td>\n",
       "      <td>117.045335</td>\n",
       "    </tr>\n",
       "    <tr>\n",
       "      <th>6</th>\n",
       "      <td>0.05</td>\n",
       "      <td>Egghe &amp; Proot</td>\n",
       "      <td>126.373467</td>\n",
       "      <td>500</td>\n",
       "      <td>-123.626533</td>\n",
       "      <td>123.626533</td>\n",
       "    </tr>\n",
       "    <tr>\n",
       "      <th>7</th>\n",
       "      <td>0.05</td>\n",
       "      <td>Jackknife</td>\n",
       "      <td>134.000000</td>\n",
       "      <td>500</td>\n",
       "      <td>-116.000000</td>\n",
       "      <td>116.000000</td>\n",
       "    </tr>\n",
       "    <tr>\n",
       "      <th>8</th>\n",
       "      <td>0.05</td>\n",
       "      <td>Chao1</td>\n",
       "      <td>123.049793</td>\n",
       "      <td>0</td>\n",
       "      <td>-126.950207</td>\n",
       "      <td>126.950207</td>\n",
       "    </tr>\n",
       "    <tr>\n",
       "      <th>9</th>\n",
       "      <td>0.05</td>\n",
       "      <td>Egghe &amp; Proot</td>\n",
       "      <td>156.859811</td>\n",
       "      <td>500</td>\n",
       "      <td>-93.140189</td>\n",
       "      <td>93.140189</td>\n",
       "    </tr>\n",
       "  </tbody>\n",
       "</table>\n",
       "</div>"
      ],
      "text/plain": [
       "   keep rate      estimator   diversity  num_documents       Error    AbsError\n",
       "0       0.05  Egghe & Proot  139.974451            500 -110.025549  110.025549\n",
       "1       0.05      Jackknife  152.000000            500  -98.000000   98.000000\n",
       "2       0.05          Chao1  130.800000              0 -119.200000  119.200000\n",
       "3       0.05  Egghe & Proot  145.352745            500 -104.647255  104.647255\n",
       "4       0.05      Jackknife  154.000000            500  -96.000000   96.000000\n",
       "5       0.05          Chao1  132.954665              0 -117.045335  117.045335\n",
       "6       0.05  Egghe & Proot  126.373467            500 -123.626533  123.626533\n",
       "7       0.05      Jackknife  134.000000            500 -116.000000  116.000000\n",
       "8       0.05          Chao1  123.049793              0 -126.950207  126.950207\n",
       "9       0.05  Egghe & Proot  156.859811            500  -93.140189   93.140189"
      ]
     },
     "execution_count": 43,
     "metadata": {},
     "output_type": "execute_result"
    }
   ],
   "source": [
    "S_df.head(10)"
   ]
  },
  {
   "cell_type": "code",
   "execution_count": 44,
   "metadata": {},
   "outputs": [
    {
     "data": {
      "text/html": [
       "<div>\n",
       "<style scoped>\n",
       "    .dataframe tbody tr th:only-of-type {\n",
       "        vertical-align: middle;\n",
       "    }\n",
       "\n",
       "    .dataframe tbody tr th {\n",
       "        vertical-align: top;\n",
       "    }\n",
       "\n",
       "    .dataframe thead th {\n",
       "        text-align: right;\n",
       "    }\n",
       "</style>\n",
       "<table border=\"1\" class=\"dataframe\">\n",
       "  <thead>\n",
       "    <tr style=\"text-align: right;\">\n",
       "      <th></th>\n",
       "      <th>keep rate</th>\n",
       "      <th>diversity</th>\n",
       "      <th>num_documents</th>\n",
       "      <th>Error</th>\n",
       "      <th>AbsError</th>\n",
       "    </tr>\n",
       "  </thead>\n",
       "  <tbody>\n",
       "    <tr>\n",
       "      <th>0</th>\n",
       "      <td>0.05</td>\n",
       "      <td>1352.535254</td>\n",
       "      <td>500</td>\n",
       "      <td>852.535254</td>\n",
       "      <td>852.535254</td>\n",
       "    </tr>\n",
       "    <tr>\n",
       "      <th>1</th>\n",
       "      <td>0.05</td>\n",
       "      <td>1634.293429</td>\n",
       "      <td>500</td>\n",
       "      <td>1134.293429</td>\n",
       "      <td>1134.293429</td>\n",
       "    </tr>\n",
       "    <tr>\n",
       "      <th>2</th>\n",
       "      <td>0.05</td>\n",
       "      <td>1050.865087</td>\n",
       "      <td>500</td>\n",
       "      <td>550.865087</td>\n",
       "      <td>550.865087</td>\n",
       "    </tr>\n",
       "    <tr>\n",
       "      <th>3</th>\n",
       "      <td>0.05</td>\n",
       "      <td>1638.883888</td>\n",
       "      <td>500</td>\n",
       "      <td>1138.883888</td>\n",
       "      <td>1138.883888</td>\n",
       "    </tr>\n",
       "    <tr>\n",
       "      <th>4</th>\n",
       "      <td>0.05</td>\n",
       "      <td>1603.960396</td>\n",
       "      <td>500</td>\n",
       "      <td>1103.960396</td>\n",
       "      <td>1103.960396</td>\n",
       "    </tr>\n",
       "    <tr>\n",
       "      <th>5</th>\n",
       "      <td>0.05</td>\n",
       "      <td>2916.291629</td>\n",
       "      <td>500</td>\n",
       "      <td>2416.291629</td>\n",
       "      <td>2416.291629</td>\n",
       "    </tr>\n",
       "    <tr>\n",
       "      <th>6</th>\n",
       "      <td>0.05</td>\n",
       "      <td>2020.952095</td>\n",
       "      <td>500</td>\n",
       "      <td>1520.952095</td>\n",
       "      <td>1520.952095</td>\n",
       "    </tr>\n",
       "    <tr>\n",
       "      <th>7</th>\n",
       "      <td>0.05</td>\n",
       "      <td>1996.599660</td>\n",
       "      <td>500</td>\n",
       "      <td>1496.599660</td>\n",
       "      <td>1496.599660</td>\n",
       "    </tr>\n",
       "    <tr>\n",
       "      <th>8</th>\n",
       "      <td>0.05</td>\n",
       "      <td>2757.535754</td>\n",
       "      <td>500</td>\n",
       "      <td>2257.535754</td>\n",
       "      <td>2257.535754</td>\n",
       "    </tr>\n",
       "    <tr>\n",
       "      <th>9</th>\n",
       "      <td>0.05</td>\n",
       "      <td>2286.948695</td>\n",
       "      <td>500</td>\n",
       "      <td>1786.948695</td>\n",
       "      <td>1786.948695</td>\n",
       "    </tr>\n",
       "  </tbody>\n",
       "</table>\n",
       "</div>"
      ],
      "text/plain": [
       "   keep rate    diversity  num_documents        Error     AbsError\n",
       "0       0.05  1352.535254            500   852.535254   852.535254\n",
       "1       0.05  1634.293429            500  1134.293429  1134.293429\n",
       "2       0.05  1050.865087            500   550.865087   550.865087\n",
       "3       0.05  1638.883888            500  1138.883888  1138.883888\n",
       "4       0.05  1603.960396            500  1103.960396  1103.960396\n",
       "5       0.05  2916.291629            500  2416.291629  2416.291629\n",
       "6       0.05  2020.952095            500  1520.952095  1520.952095\n",
       "7       0.05  1996.599660            500  1496.599660  1496.599660\n",
       "8       0.05  2757.535754            500  2257.535754  2257.535754\n",
       "9       0.05  2286.948695            500  1786.948695  1786.948695"
      ]
     },
     "execution_count": 44,
     "metadata": {},
     "output_type": "execute_result"
    }
   ],
   "source": [
    "D_df['Error'] = D_df['diversity'] - D_df['num_documents']\n",
    "D_df['AbsError'] = np.abs(D_df['Error'])\n",
    "D_df.head(10)"
   ]
  },
  {
   "cell_type": "code",
   "execution_count": 45,
   "metadata": {},
   "outputs": [
    {
     "data": {
      "text/plain": [
       "<matplotlib.lines.Line2D at 0x7f8040809a90>"
      ]
     },
     "execution_count": 45,
     "metadata": {},
     "output_type": "execute_result"
    },
    {
     "data": {
      "image/png": "[encoded data removed]",
      "text/plain": [
       "<Figure size 432x288 with 1 Axes>"
      ]
     },
     "metadata": {
      "needs_background": "light"
     },
     "output_type": "display_data"
    }
   ],
   "source": [
    "ax = sb.violinplot(x=\"estimator\", y=\"diversity\", data=S_df)\n",
    "ax.axhline(num_works, ls='--', c='grey')"
   ]
  },
  {
   "cell_type": "code",
   "execution_count": 46,
   "metadata": {},
   "outputs": [
    {
     "data": {
      "image/png": "[encoded data removed]",
      "text/plain": [
       "<Figure size 914.025x504 with 1 Axes>"
      ]
     },
     "metadata": {
      "needs_background": "light"
     },
     "output_type": "display_data"
    }
   ],
   "source": [
    "g = sb.lmplot(x=\"keep rate\", y=\"AbsError\", hue=\"estimator\", order=2,\n",
    "              ci=95, data=S_df, scatter_kws={'alpha':0.1}, height=7, aspect=1.6)"
   ]
  },
  {
   "cell_type": "code",
   "execution_count": null,
   "metadata": {},
   "outputs": [],
   "source": []
  }
 ],
 "metadata": {
  "kernelspec": {
   "display_name": "Python 3",
   "language": "python",
   "name": "python3"
  },
  "language_info": {
   "codemirror_mode": {
    "name": "ipython",
    "version": 3
   },
   "file_extension": ".py",
   "mimetype": "text/x-python",
   "name": "python",
   "nbconvert_exporter": "python",
   "pygments_lexer": "ipython3",
   "version": "3.6.10"
  }
 },
 "nbformat": 4,
 "nbformat_minor": 4
}
