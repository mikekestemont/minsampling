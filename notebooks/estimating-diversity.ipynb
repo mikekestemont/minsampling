{
 "cells": [
  {
   "cell_type": "markdown",
   "metadata": {},
   "source": [
    "# Estimating the Loss of Medieval Literature with an Unseen Species model from Ecodiversity"
   ]
  },
  {
   "cell_type": "code",
   "execution_count": 1,
   "metadata": {},
   "outputs": [],
   "source": [
    "import numpy as np\n",
    "np.random.seed(764513)\n",
    "import scipy.stats as stats\n",
    "from scipy.special import gammaln\n",
    "import scipy.optimize as optim\n",
    "import pandas as pd\n",
    "import matplotlib.pyplot as plt\n",
    "import ptitprince as pt\n",
    "from functools import partial\n",
    "import seaborn as sb\n",
    "from tqdm.notebook import tqdm"
   ]
  },
  {
   "cell_type": "markdown",
   "metadata": {},
   "source": [
    "This notebook accompanies a short paper for the first [Computational Humanities Research Workshop](https://www.computational-humanities-research.org/) (18-20 november 2020; to be held online). It is part of a repository that contains all the code and software (with some documentation interwoven) necessary to replicate our findings; it will be archived on [Zenodo](https://zenodo.org/). The paper offers a more technical complement to and extension of a Dutch-language journal article that was previously published, but which was targeted at a broader audience of literary historians:\n",
    "\n",
    "> Kestemont, M. & Karsdorp, F., ‘Het Atlantis van de Middelnederlandse ridderepiek. Een schatting van het tekstverlies met methodes uit de ecodiversiteit’, *Spiegel der Letteren* 61:3 (2019), 271-290.\n",
    "\n",
    "We ran all the code below in an [Anaconda](https://www.anaconda.com/) installation of Python 3.6.10. The top-level directory of this repository has a `requirements.txt` file that you can use to install the more specific version of the third-party packages used here. Note that the data used here feature a number of minor improvements in comparison to that for the SDL paper (with some insignificant fluctuations in the results)."
   ]
  },
  {
   "cell_type": "markdown",
   "metadata": {},
   "source": [
    "## The loss of works"
   ]
  },
  {
   "cell_type": "markdown",
   "metadata": {},
   "source": [
    "### Data"
   ]
  },
  {
   "cell_type": "markdown",
   "metadata": {},
   "source": [
    "We start by loading the data for the case study, which is the tradition of Middle Dutch chivalric epics (*Middelnederlandse ridderepiek*, ca. 1150-1450 AD). This data comes in the form a single spreadsheet and has mainly been drawn Kienhorst's acclaimed 1988 repertory, with the addition of new manuscript finds since then:\n",
    "\n",
    "> H. Kienhorst, *De handschriften van de Middelnederlandse ridderepiek. Een codicologischebeschrijving. Deel 1*. Deventer studieën 9, Sub Rosa, 1988."
   ]
  },
  {
   "cell_type": "code",
   "execution_count": 2,
   "metadata": {},
   "outputs": [
    {
     "data": {
      "text/html": [
       "<div>\n",
       "<style scoped>\n",
       "    .dataframe tbody tr th:only-of-type {\n",
       "        vertical-align: middle;\n",
       "    }\n",
       "\n",
       "    .dataframe tbody tr th {\n",
       "        vertical-align: top;\n",
       "    }\n",
       "\n",
       "    .dataframe thead th {\n",
       "        text-align: right;\n",
       "    }\n",
       "</style>\n",
       "<table border=\"1\" class=\"dataframe\">\n",
       "  <thead>\n",
       "    <tr style=\"text-align: right;\">\n",
       "      <th></th>\n",
       "      <th>work</th>\n",
       "      <th>sigle</th>\n",
       "      <th>signature</th>\n",
       "      <th>fragmentary</th>\n",
       "    </tr>\n",
       "  </thead>\n",
       "  <tbody>\n",
       "    <tr>\n",
       "      <th>0</th>\n",
       "      <td>Aiol (1)</td>\n",
       "      <td>H1</td>\n",
       "      <td>Leiden, UB, BPL 1049; Brussel, KB, IV 816</td>\n",
       "      <td>True</td>\n",
       "    </tr>\n",
       "    <tr>\n",
       "      <th>1</th>\n",
       "      <td>Aiol (2)</td>\n",
       "      <td>H2</td>\n",
       "      <td>Breda, Arch. Begijnhof, z.s.</td>\n",
       "      <td>True</td>\n",
       "    </tr>\n",
       "    <tr>\n",
       "      <th>2</th>\n",
       "      <td>Alexanders geesten</td>\n",
       "      <td>München, Bayerische Staatsbibliotheek, Cod. ge...</td>\n",
       "      <td>München, Bayerische Staatsbibliotheek, Cod. ge...</td>\n",
       "      <td>False</td>\n",
       "    </tr>\n",
       "    <tr>\n",
       "      <th>3</th>\n",
       "      <td>Alexanders geesten</td>\n",
       "      <td>H3</td>\n",
       "      <td>Gent, UB, 2749,6</td>\n",
       "      <td>True</td>\n",
       "    </tr>\n",
       "    <tr>\n",
       "      <th>4</th>\n",
       "      <td>Alexanders geesten</td>\n",
       "      <td>H4</td>\n",
       "      <td>Leiden, UB, Ltk. 1196</td>\n",
       "      <td>True</td>\n",
       "    </tr>\n",
       "  </tbody>\n",
       "</table>\n",
       "</div>"
      ],
      "text/plain": [
       "                 work                                              sigle  \\\n",
       "0            Aiol (1)                                                 H1   \n",
       "1            Aiol (2)                                                 H2   \n",
       "2  Alexanders geesten  München, Bayerische Staatsbibliotheek, Cod. ge...   \n",
       "3  Alexanders geesten                                                 H3   \n",
       "4  Alexanders geesten                                                 H4   \n",
       "\n",
       "                                           signature  fragmentary  \n",
       "0          Leiden, UB, BPL 1049; Brussel, KB, IV 816         True  \n",
       "1                       Breda, Arch. Begijnhof, z.s.         True  \n",
       "2  München, Bayerische Staatsbibliotheek, Cod. ge...        False  \n",
       "3                                   Gent, UB, 2749,6         True  \n",
       "4                              Leiden, UB, Ltk. 1196         True  "
      ]
     },
     "execution_count": 2,
     "metadata": {},
     "output_type": "execute_result"
    }
   ],
   "source": [
    "df = pd.read_excel('../data/mnl_chiv.xlsx', header=None)\n",
    "df.columns = ('work', 'sigle', 'signature', 'fragmentary')\n",
    "df.head()"
   ]
  },
  {
   "cell_type": "markdown",
   "metadata": {},
   "source": [
    "As you can see, each row represents a single textual witness or observation of a Middle Dutch chivalric epic:\n",
    "\n",
    "- *work*: the title of the (abstract notion of a) \"work\" which is attested in the witness (i.e. the species in the ecological analogy);\n",
    "- *sigle*: Kienhorst's code for the manuscript, if applicable (not really used here, but potentially useful for future reference);\n",
    "- *signature*: the signature of the fragment(s) of the textual witness that have been recovered. Often, there is just one signature but in some cases, more than one remnant of the same codex has emerged in different locations (signatures are separated by a semi-colon in those cases). \n",
    "- *fragmentary*: we record the survival status of the work: did the witness survive in full (i.e. an entire or at least reasonably intact codex) or just in one or more fragments (i.e. as so-called \"maculature\")? "
   ]
  },
  {
   "cell_type": "markdown",
   "metadata": {},
   "source": [
    "We transform this tabular data into the sort of \"abundance data\" needed for our analysis, capturing how often each type of species has been sighted:"
   ]
  },
  {
   "cell_type": "code",
   "execution_count": 3,
   "metadata": {},
   "outputs": [
    {
     "data": {
      "text/html": [
       "<div>\n",
       "<style scoped>\n",
       "    .dataframe tbody tr th:only-of-type {\n",
       "        vertical-align: middle;\n",
       "    }\n",
       "\n",
       "    .dataframe tbody tr th {\n",
       "        vertical-align: top;\n",
       "    }\n",
       "\n",
       "    .dataframe thead th {\n",
       "        text-align: right;\n",
       "    }\n",
       "</style>\n",
       "<table border=\"1\" class=\"dataframe\">\n",
       "  <thead>\n",
       "    <tr style=\"text-align: right;\">\n",
       "      <th></th>\n",
       "      <th>Works</th>\n",
       "      <th>Witnesses</th>\n",
       "    </tr>\n",
       "  </thead>\n",
       "  <tbody>\n",
       "    <tr>\n",
       "      <th>1</th>\n",
       "      <td>45</td>\n",
       "      <td>1</td>\n",
       "    </tr>\n",
       "    <tr>\n",
       "      <th>2</th>\n",
       "      <td>13</td>\n",
       "      <td>2</td>\n",
       "    </tr>\n",
       "    <tr>\n",
       "      <th>3</th>\n",
       "      <td>6</td>\n",
       "      <td>3</td>\n",
       "    </tr>\n",
       "    <tr>\n",
       "      <th>4</th>\n",
       "      <td>2</td>\n",
       "      <td>4</td>\n",
       "    </tr>\n",
       "    <tr>\n",
       "      <th>5</th>\n",
       "      <td>4</td>\n",
       "      <td>5</td>\n",
       "    </tr>\n",
       "    <tr>\n",
       "      <th>6</th>\n",
       "      <td>1</td>\n",
       "      <td>6</td>\n",
       "    </tr>\n",
       "    <tr>\n",
       "      <th>7</th>\n",
       "      <td>1</td>\n",
       "      <td>7</td>\n",
       "    </tr>\n",
       "    <tr>\n",
       "      <th>10</th>\n",
       "      <td>2</td>\n",
       "      <td>10</td>\n",
       "    </tr>\n",
       "    <tr>\n",
       "      <th>17</th>\n",
       "      <td>1</td>\n",
       "      <td>17</td>\n",
       "    </tr>\n",
       "    <tr>\n",
       "      <th>Total</th>\n",
       "      <td>75</td>\n",
       "      <td>167</td>\n",
       "    </tr>\n",
       "  </tbody>\n",
       "</table>\n",
       "</div>"
      ],
      "text/plain": [
       "       Works  Witnesses\n",
       "1         45          1\n",
       "2         13          2\n",
       "3          6          3\n",
       "4          2          4\n",
       "5          4          5\n",
       "6          1          6\n",
       "7          1          7\n",
       "10         2         10\n",
       "17         1         17\n",
       "Total     75        167"
      ]
     },
     "execution_count": 3,
     "metadata": {},
     "output_type": "execute_result"
    }
   ],
   "source": [
    "types = df.groupby('work').size().sort_values(ascending=False).value_counts().sort_index()\n",
    "types = types.to_frame(name='Works')\n",
    "types['Witnesses'] = types.index\n",
    "types.loc['Total']  = (types['Works'].sum(), np.sum(types['Works'] * types['Witnesses']))\n",
    "types"
   ]
  },
  {
   "cell_type": "markdown",
   "metadata": {},
   "source": [
    "Some housekeeping; we convert that data into Latex for the paper:"
   ]
  },
  {
   "cell_type": "code",
   "execution_count": 4,
   "metadata": {},
   "outputs": [
    {
     "name": "stdout",
     "output_type": "stream",
     "text": [
      "\\begin{tabular}{rr}\n",
      "\\toprule\n",
      " Works &  Witnesses \\\\\n",
      "\\midrule\n",
      "    45 &          1 \\\\\n",
      "    13 &          2 \\\\\n",
      "     6 &          3 \\\\\n",
      "     2 &          4 \\\\\n",
      "     4 &          5 \\\\\n",
      "     1 &          6 \\\\\n",
      "     1 &          7 \\\\\n",
      "     2 &         10 \\\\\n",
      "     1 &         17 \\\\\n",
      "    75 &        167 \\\\\n",
      "\\bottomrule\n",
      "\\end{tabular}\n",
      "\n"
     ]
    }
   ],
   "source": [
    "print(types.to_latex(index=False, bold_rows=True))"
   ]
  },
  {
   "cell_type": "markdown",
   "metadata": {},
   "source": [
    "Then, we create a simple array holding these species counts or the attestation freqsuency of each of our 75 works:"
   ]
  },
  {
   "cell_type": "code",
   "execution_count": 5,
   "metadata": {},
   "outputs": [
    {
     "data": {
      "text/plain": [
       "array([ 1,  1,  1,  5,  2,  1,  2,  1,  1,  3,  1,  1,  2,  1,  1,  2,  1,\n",
       "        1,  1,  2,  1,  1,  1,  1,  1, 17,  1,  4,  1,  7,  1,  1,  1,  1,\n",
       "        2, 10,  4,  1,  3,  1,  1,  1,  1,  1,  1,  1,  1,  6,  1,  2,  5,\n",
       "        5,  3,  2,  3,  1,  1,  3, 10,  2,  5,  1,  2,  2,  1,  1,  2,  1,\n",
       "        1,  2,  1,  1,  1,  1,  3])"
      ]
     },
     "execution_count": 5,
     "metadata": {},
     "output_type": "execute_result"
    }
   ],
   "source": [
    "cnts = df.groupby('work').size().values # ignore zero\n",
    "cnts"
   ]
  },
  {
   "cell_type": "markdown",
   "metadata": {},
   "source": [
    "### Estimators"
   ]
  },
  {
   "cell_type": "markdown",
   "metadata": {},
   "source": [
    "We start by estimating the original diversity of the corpus, or the number of species that once existed for which no records are extant anymore (i.e. all texts for which all witnesses are (i) completely lost or (ii) which have at least not been recovered yet presently). For this we use three different estimators that are known as \"unseen species models\"."
   ]
  },
  {
   "cell_type": "markdown",
   "metadata": {},
   "source": [
    "#### Chao1"
   ]
  },
  {
   "cell_type": "markdown",
   "metadata": {},
   "source": [
    "Our method of theoretical preference is `Chao1`: this method is attractive, because it is:\n",
    "- non-parametric (i.e. no built-in assumptions or difficult parametrizarions to worry about);\n",
    "- conservative (i.e. it estimates a theoretical *lower* bound for the diversity);\n",
    "- optimally suited for our kind of data (because we expect most of the unseen species to only have a small abundance, i.e. most currently unknown medieval texts are likely to have existed in a small number of copies.\n",
    "\n",
    "The metric has been detailed in multiple publications, but we found this paper to be particularly insightful:\n",
    "\n",
    "> A. Chao & L. Jost, \"Estimating diversity and entropy profiles via discovery rates of new species\". *Methods in Ecology and Evolution* 6 (2015), 873–882.\n",
    "\n",
    "The base implementation is the following:"
   ]
  },
  {
   "cell_type": "code",
   "execution_count": 6,
   "metadata": {},
   "outputs": [],
   "source": [
    "def chao_richness(x):\n",
    "    x, n = x[x > 0], x.sum()\n",
    "    t = x.shape[0]\n",
    "    f1, f2 = (x == 1).sum(), (x == 2).sum()\n",
    "    return t + (n - 1) / n * ((f1 ** 2 / 2 / f2) if f2 > 0 else (f1 * (f1 - 1) / 2))"
   ]
  },
  {
   "cell_type": "markdown",
   "metadata": {},
   "source": [
    "For our corpus, this gives the following estimate at face value:"
   ]
  },
  {
   "cell_type": "code",
   "execution_count": 7,
   "metadata": {},
   "outputs": [
    {
     "data": {
      "text/plain": [
       "152.41824044219254"
      ]
     },
     "execution_count": 7,
     "metadata": {},
     "output_type": "execute_result"
    }
   ],
   "source": [
    "chao_richness(cnts)"
   ]
  },
  {
   "cell_type": "markdown",
   "metadata": {},
   "source": [
    "Surprisingly, this suggests that roughly half of the medieval texts in this genre somehow got lost or forgotten -- which is much higher than what was previously assumed in the literature (for instance, in Frits van Oostrom's acclaimed *Stemmen op schrift*):\n",
    "\n",
    "> F. Van Oostrom, *Stemmen op schrift. Geschiedenis van de Nederlandse literatuur van het begin tot 1300*. Prometheus, 2006.\n",
    "\n",
    "Additionally, this is only a lower bound for the estimate (so the extinction rate might in fact well be higher). To get a sense of the uncertainty at work here, we can apply a bootstrapped procedure, in which we iteratively sample from the data to obtain a confidence interval (CI):"
   ]
  },
  {
   "cell_type": "code",
   "execution_count": 8,
   "metadata": {},
   "outputs": [],
   "source": [
    "def bt_prob(x):\n",
    "    x, n = x[x > 0], x.sum()\n",
    "    f1, f2 = (x == 1).sum(), (x == 2).sum()\n",
    "    C = 1 - f1 / n * (((n - 1) * f1 / ((n - 1) * f1 + 2 * f2)) if f2 > 0 else\n",
    "                      ((n - 1) * (f1 - 1) / ((n - 1) * (f1 - 1) + 2)) if f1 > 0 else\n",
    "                      0)\n",
    "    W = (1 - C) / np.sum(x / n * (1 - x / n) ** n)\n",
    "    p = x / n * (1 - W * (1 - x / n) ** n)\n",
    "    f0 = np.ceil(((n - 1) / n * f1 ** 2 / (2 * f2)) if f2 > 0 else\n",
    "                 ((n - 1) / n * f1 * (f1 - 1) / 2))\n",
    "    p0 = (1 - C) / f0\n",
    "    p = np.hstack((p, np.array([p0 for i in np.arange(f0)])))\n",
    "    return p\n",
    "\n",
    "\n",
    "def bootstrap(x, fn=chao_richness, n_iter=1000, conf=.95):\n",
    "    # define a multinomial probability distribution\n",
    "    # for the bootstrap procedure to sample from:\n",
    "    p, n = bt_prob(x), x.sum()\n",
    "    data_bt = np.random.multinomial(n, p, n_iter)\n",
    "    \n",
    "    pro = np.array([fn(row) for row in data_bt])\n",
    "    \n",
    "    pro_mean = pro.mean(0)\n",
    "    \n",
    "    lci_pro = -np.quantile(pro, (1 - conf) / 2, axis=0) + pro_mean\n",
    "    uci_pro = np.quantile(pro, 1 - (1 - conf) / 2, axis=0) - pro_mean\n",
    "\n",
    "    sd_pro = np.std(pro, axis=0)\n",
    "\n",
    "    pro = pro_mean - pro\n",
    "    return (lci_pro, uci_pro, sd_pro, pro)"
   ]
  },
  {
   "cell_type": "markdown",
   "metadata": {},
   "source": [
    "For 10,000 iterations, that yields the following .95 CI:"
   ]
  },
  {
   "cell_type": "code",
   "execution_count": 9,
   "metadata": {},
   "outputs": [],
   "source": [
    "def chao_estimate(x, n_iter=10000, conf=0.95):\n",
    "    pro = chao_richness(x)\n",
    "    (lci_pro, uci_pro, sd_pro, bt_pro) = bootstrap(x, fn=chao_richness, n_iter=n_iter, conf=conf)\n",
    "    lci_pro, uci_pro = pro - lci_pro, pro + uci_pro\n",
    "    bt_pro = pro - bt_pro\n",
    "    return (lci_pro, uci_pro, bt_pro, pro)"
   ]
  },
  {
   "cell_type": "code",
   "execution_count": 10,
   "metadata": {},
   "outputs": [
    {
     "name": "stdout",
     "output_type": "stream",
     "text": [
      "Chao1: 152.42 CI(110.11 - 222.98)\n"
     ]
    }
   ],
   "source": [
    "lci_pro, uci_pro, chao1_pro, pro = chao_estimate(cnts)\n",
    "print(f'Chao1: {pro:.2f} CI({lci_pro:.2f} - {uci_pro:.2f})')"
   ]
  },
  {
   "cell_type": "markdown",
   "metadata": {},
   "source": [
    "#### Jackknife"
   ]
  },
  {
   "cell_type": "markdown",
   "metadata": {},
   "source": [
    "Next up is the Jackknife estimator, an older and established method in ecology. Although it lacks theoretical support, it often yields surprisingly strong empirical performance. A nice and very complete comparison is offered in, for instance:\n",
    "\n",
    "> E. Marcon, \"Practical Estimation of Diversity from Abundance Data\" (2015). URL: https://hal-agroparistech.archives-ouvertes.fr/hal-01212435, working paper or preprint.\n",
    "\n",
    "The Jackknife is a general bias correction method that estimates the bias in the data through under-sampling it (i.e. a kind of cross-validation). Below goes a Python implementation of the reference code found in the R package described in:\n",
    "\n",
    "> Ji-Ping Wang, \"SPECIES: An R Package for Species Richness Estimation\", *Journal of Statistical Software* 40:9 (2011).\n",
    "\n",
    "Note that the order of the jackkife, *k*, i.e; the number of observations left out in each fold, is automatically determined by the procedure and we only specify a maximum *k* in the function call."
   ]
  },
  {
   "cell_type": "code",
   "execution_count": 11,
   "metadata": {},
   "outputs": [],
   "source": [
    "def dbinom(x, size, prob):\n",
    "    d = stats.binom(size, prob).pmf(x)\n",
    "    return 1 if np.isnan(d) else d\n",
    "\n",
    "\n",
    "def jackknife(data, k=5, conf=0.95):\n",
    "    k0, k = k, min(len(np.unique(data)) - 1, 10)\n",
    "    n = np.bincount(data)[1:]\n",
    "    n = np.array((np.arange(1, n.shape[0] + 1), n)).T\n",
    "    total = n[:, 1].sum()\n",
    "    gene = np.zeros((k + 1, 5))\n",
    "    gene[0, 0] = total\n",
    "    for i in range(1, k + 1):\n",
    "        gene[i, 0] = total\n",
    "        gene[i, 3] = total\n",
    "        for j in range(1, i + 1):\n",
    "            gene[i, 0] = (\n",
    "                gene[i, 0] +\n",
    "                (-1)**(j + 1) * 2**i * dbinom(j, i, 0.5) * n[j - 1, 1])\n",
    "            gene[i, 3] = gene[i, 3] + (-1)**(j + 1) * 2**i * dbinom(\n",
    "                j, i, 0.5) * n[j - 1, 1] * np.prod(np.arange(1, j + 1))\n",
    "        gene[i, 1] = -gene[i, 0]\n",
    "        for j in range(1, i + 1):\n",
    "            gene[i, 1] = (gene[i, 1] + (\n",
    "                (-1)**(j + 1) * 2**i * dbinom(j, i, 0.5) + 1)**2 * n[j - 1, 1])\n",
    "        gene[i, 1] = np.sqrt(gene[i, 1] + n[i:, 1].sum())\n",
    "    if k > 1:\n",
    "        for i in range(2, k + 1):\n",
    "            gene[i - 1, 2] = -(gene[i, 0] - gene[i - 1, 0])**2 / (total - 1)\n",
    "            for j in range(1, i):\n",
    "                gene[i - 1, 2] = gene[i - 1, 2] + (\n",
    "                    (-1)**(j + 1) * 2**(i) * dbinom(j, i, 0.5) -\n",
    "                    (-1)**(j + 1) * 2**(i - 1) * dbinom(j, i - 1, 0.5)\n",
    "                )**2 * n[j - 1, 1] * total / (total - 1)\n",
    "            gene[i - 1, 2] = np.sqrt(gene[i - 1, 2] + n[i - 1, 1] * total /\n",
    "                                     (total - 1))\n",
    "            gene[i - 1, 4] = (gene[i, 0] - gene[i - 1, 0]) / gene[i - 1, 2]\n",
    "    coe = stats.norm().ppf(1 - (1 - 0.95) / 2)\n",
    "    x = gene[1:k + 1, 4] < coe\n",
    "    if x.sum() == 0:\n",
    "        jackest = gene[k, 0]\n",
    "        sej = gene[k, 1]\n",
    "        order = 1\n",
    "    else:\n",
    "        indicator = np.arange(1, k + 1)\n",
    "        jackest = gene[indicator[x][0], 0]\n",
    "        sej = gene[indicator[x][0], 1]\n",
    "        order = np.arange(1, k + 2)[indicator[x][0]] - 1\n",
    "    if k0 <= order:\n",
    "        jackest = gene[k0, 0]\n",
    "        sej = gene[k0, 1]\n",
    "        order = k0\n",
    "    return jackest, sej, order, jackest - coe * sej, jackest + coe * sej"
   ]
  },
  {
   "cell_type": "markdown",
   "metadata": {},
   "source": [
    "The CI (calculated analytically) is also returned by this function, as well as the selected *k* -- which turns out to be 3 for this data):"
   ]
  },
  {
   "cell_type": "code",
   "execution_count": 12,
   "metadata": {},
   "outputs": [
    {
     "name": "stdout",
     "output_type": "stream",
     "text": [
      "Jackknife (@order=3): 177.00 CI(127.81 - 226.19)\n"
     ]
    }
   ],
   "source": [
    "jk, sej, order, jk_lci, jk_uci = jackknife(cnts)\n",
    "print(f'Jackknife (@order={order}): {jk:.2f} CI({jk_lci:.2f} - {jk_uci:.2f})')"
   ]
  },
  {
   "cell_type": "markdown",
   "metadata": {},
   "source": [
    "#### Egghe & Proot"
   ]
  },
  {
   "cell_type": "markdown",
   "metadata": {},
   "source": [
    "Finally, we turn to one of the few previous studies in the Humanities in this domain:\n",
    "    \n",
    "> L. Egghe & G. Proot, \"The estimation of the number of lost multi-copy documents: A new type of informetrics theory\",  *Journal of Informetrics* 1 (2007) 257–268.\n",
    "\n",
    "This article is an important forerunner in a which a similar method has been applied to estimate the loss rates of multi-copy documents in the domain of printed editions. Because the notion of a print run (see the $alpha$ parameter below) is meaningless in the domain of handwritten works, it isn't straightforward to transpose this method to our case study but we include it nevertheless:"
   ]
  },
  {
   "cell_type": "code",
   "execution_count": 13,
   "metadata": {},
   "outputs": [],
   "source": [
    "def ep(counts, alpha=500):\n",
    "    ft = np.bincount(counts)[1:]\n",
    "    S = ft.sum()\n",
    "    P1, P2 = (counts == 1).sum(), (counts == 2).sum()\n",
    "    P0 = (1 / (1 + (2 / (alpha - 1)) * (P2 / P1))) ** alpha\n",
    "    S_lost = S * (P0 / (1 - P0))\n",
    "    S_lost = S + S_lost\n",
    "    return S_lost if not np.isinf(S_lost) else np.nan"
   ]
  },
  {
   "cell_type": "markdown",
   "metadata": {},
   "source": [
    "For our data, an estimate is yielded that is in the range of `Chao1` (but slightly higher, as was to be expected):"
   ]
  },
  {
   "cell_type": "code",
   "execution_count": 14,
   "metadata": {},
   "outputs": [
    {
     "data": {
      "text/plain": [
       "170.71929916359244"
      ]
     },
     "execution_count": 14,
     "metadata": {},
     "output_type": "execute_result"
    }
   ],
   "source": [
    "ep_score = ep(cnts)\n",
    "ep_score"
   ]
  },
  {
   "cell_type": "markdown",
   "metadata": {},
   "source": [
    "We can apply the same bootstrap procedure as for `Chao1` to get a CI:"
   ]
  },
  {
   "cell_type": "code",
   "execution_count": 15,
   "metadata": {},
   "outputs": [],
   "source": [
    "def ep_estimate(x, n_iter=10000, conf=0.95):\n",
    "    pro = ep(x)\n",
    "    (lci_pro, uci_pro, sd_pro, bt_pro) = bootstrap(x, fn=ep, n_iter=n_iter, conf=conf)\n",
    "    lci_pro, uci_pro = pro - lci_pro, pro + uci_pro\n",
    "    bt_pro = pro - bt_pro\n",
    "    return (lci_pro, uci_pro, bt_pro, pro)"
   ]
  },
  {
   "cell_type": "markdown",
   "metadata": {},
   "source": [
    "That gives us a sense of the (again, considerable!) uncertainty:"
   ]
  },
  {
   "cell_type": "code",
   "execution_count": 16,
   "metadata": {},
   "outputs": [
    {
     "name": "stdout",
     "output_type": "stream",
     "text": [
      "Egghe & Proot: 170.72 CI(116.77 - 268.49)\n"
     ]
    }
   ],
   "source": [
    "lci_pro, uci_pro, ep_pro, pro = ep_estimate(cnts)\n",
    "print(f'Egghe & Proot: {pro:.2f} CI({lci_pro:.2f} - {uci_pro:.2f})')"
   ]
  },
  {
   "cell_type": "markdown",
   "metadata": {},
   "source": [
    "Finally, we visualize the combined result of applying these three estimators in a \"rain plot\", showing the distribution and boxplot for `Chao1` and the Egghe-Proot method; for the `Jackknife`, we can only show the CI and default score (as vertical grey, dashed or solid lines):"
   ]
  },
  {
   "cell_type": "code",
   "execution_count": 17,
   "metadata": {},
   "outputs": [
    {
     "data": {
      "image/png": "[encoded data removed]",
      "text/plain": [
       "<Figure size 576x432 with 1 Axes>"
      ]
     },
     "metadata": {
      "needs_background": "light"
     },
     "output_type": "display_data"
    }
   ],
   "source": [
    "d = list([(x, 'Chao1') for x in chao1_pro])\n",
    "d += list([(x, 'EP') for x in ep_pro])\n",
    "bt = pd.DataFrame(d, columns=('bootstrap', 'Estimator'))\n",
    "bt\n",
    "\n",
    "fig, ax = plt.subplots(figsize=(8, 6))\n",
    "pt.RainCloud(\n",
    "    data=bt, x=\"Estimator\", y=\"bootstrap\", ax=ax, \n",
    "    orient=\"h\", alpha=.8, bw=.2, rain_alpha=.3,\n",
    ");\n",
    "\n",
    "ax.axvline(jk, c='grey')\n",
    "ax.axvline(jk_lci, c='grey', ls='--')\n",
    "ax.axvline(jk_uci, c='grey', ls='--')\n",
    "ax.set_xlabel('Number of works')\n",
    "\n",
    "ax.set_xlim([50, 400])\n",
    "plt.title('Diversity estimation for the number of works')\n",
    "plt.tight_layout()\n",
    "plt.savefig('../figures/rainplot.pdf');"
   ]
  },
  {
   "cell_type": "markdown",
   "metadata": {},
   "source": [
    "### Maculature"
   ]
  },
  {
   "cell_type": "markdown",
   "metadata": {},
   "source": [
    "An interesting extension of the kind of diversity estimation discussed above is to limit it to the fragmentary remains of witnesses only -- we owe this suggestion to prof. dr. Remco Sleiderink (University of Antwerp). Above, we freely mix physical documents that survived in their entirety (i.e. full codices) with fragmentary remains (sometimes, in the case of deliberately torn up \"maculature\", only a small shred of a book survives). It is unclear to us at this stage whether that is theoretically acceptable since both document types are characterized by very different survival routes. For that reason, we also include an estimate based on the fragmentary remains only.\n",
    "\n",
    "Our data indicate whether a witness has survived fragmentarily (as \"maculature\") or not. In the former case, remnants of the very same source have sometimes emerged in different locales (in that case, multiple signatures are included). These also can be treated as different \"sightings\", but this time of a manuscript (instead of a work), which allows us to estimate (a lower bound for) the total number of manuscripts that were once cut up to be recycled.\n",
    "\n",
    "Note that here, we are no longer estimating the loss of \"works\", but rather the loss of \"documents\". However, we are not estimating the size of the *full* corpus of documents that once existed (that will happen below), but *only* the size of the specific subgroup of manuscripts that once existed which were processed or recycled into maculature. To the best of our knowledge, very little is known on the ratio of \"all manuscripts\" vs \"the number of manuscripts that were eventually recycled\" in any medieval literature, so this is very exciting."
   ]
  },
  {
   "cell_type": "markdown",
   "metadata": {},
   "source": [
    "First, we restrict the data to witnesses that survived fragmentarily:"
   ]
  },
  {
   "cell_type": "code",
   "execution_count": 18,
   "metadata": {},
   "outputs": [],
   "source": [
    "mss_cnts = []\n",
    "for sign, fragm in zip(df['signature'], df['fragmentary']):\n",
    "    if fragm: # we ignore witnesses that survived in full\n",
    "        try:\n",
    "            mss_cnts.append(len(sign.split(';')))\n",
    "        except AttributeError:\n",
    "            pass\n",
    "mss_cnts = np.array(mss_cnts)"
   ]
  },
  {
   "cell_type": "markdown",
   "metadata": {},
   "source": [
    "This gives us a (much) smaller subset of the data, as shown in this bar plot:"
   ]
  },
  {
   "cell_type": "code",
   "execution_count": 19,
   "metadata": {},
   "outputs": [
    {
     "data": {
      "image/png": "[encoded data removed]",
      "text/plain": [
       "<Figure size 432x288 with 1 Axes>"
      ]
     },
     "metadata": {
      "needs_background": "light"
     },
     "output_type": "display_data"
    }
   ],
   "source": [
    "labels, counts = np.unique(mss_cnts, return_counts=True)\n",
    "plt.bar(labels, counts, align='center')\n",
    "plt.gca().set_xticks(labels);"
   ]
  },
  {
   "cell_type": "markdown",
   "metadata": {},
   "source": [
    "The following statistics can be reported:"
   ]
  },
  {
   "cell_type": "code",
   "execution_count": 20,
   "metadata": {},
   "outputs": [
    {
     "name": "stdout",
     "output_type": "stream",
     "text": [
      "number of fragments: 181\n",
      "number of documents: 141\n",
      "f1: 118\n",
      "f2: 14\n"
     ]
    }
   ],
   "source": [
    "x = mss_cnts\n",
    "x, n = x[x > 0], x.sum()\n",
    "t = x.shape[0]\n",
    "f1, f2 = (x == 1).sum(), (x == 2).sum()\n",
    "print('number of fragments:', n)\n",
    "print('number of documents:', t)\n",
    "print('f1:', f1)\n",
    "print('f2:', f2)"
   ]
  },
  {
   "cell_type": "markdown",
   "metadata": {},
   "source": [
    "Applying `Chao1` to this restricted data yields the following results:"
   ]
  },
  {
   "cell_type": "code",
   "execution_count": 21,
   "metadata": {},
   "outputs": [
    {
     "name": "stdout",
     "output_type": "stream",
     "text": [
      "Chao1 (maculature): 635.54 CI(449.85 - 947.25)\n"
     ]
    }
   ],
   "source": [
    "mac_lci_pro, mac_uci_pro, mac_chao1_pro, mac_pro = chao_estimate(mss_cnts)\n",
    "print(f'Chao1 (maculature): {mac_pro:.2f} CI({mac_lci_pro:.2f} - {mac_uci_pro:.2f})')"
   ]
  },
  {
   "cell_type": "markdown",
   "metadata": {},
   "source": [
    "To the best of our knowledge, this is the first published estimate of the number of manuscripts in this literature that were recycled into maculature. *If* these numbers are trustworthy -- and that's a big *if* -- they are surprisingly high: in combination with the analyses described below, it would seem that a surprisingly large share (up to one third!) of the manuscripts in this genre were eventually recycled. (And in a way, that's good news, because the discovery rates for fragmentary remains are nowadays much higher than for entire manuscripts.)"
   ]
  },
  {
   "cell_type": "markdown",
   "metadata": {},
   "source": [
    "## The loss of documents"
   ]
  },
  {
   "cell_type": "markdown",
   "metadata": {},
   "source": [
    "Above (and in our previous work), we limited ourselves to estimating the number of lost \"works\" in this data, but the number of lost \"documents\" is in fact equally relevant for medievalists -- especially for book historians. With the maculature paragraph above, we first ventured into that domain, but now we discuss a more principled approach to this problem.\n",
    "\n",
    "It should be noted that book historians have published earlier quantitative estimates as to the number of lost books in this domain. These estimates are generally based on medieval libraries of which the historic composition was known (potentially even at different points throughout history): this enables us to empirically observe the loss rates for these specific collections, provided the surviving witnesses are still traceable and identifiable of course. Important references in this respect are the following monographs:\n",
    "-  H. Wijsman, *Luxury Bound. Illustrated Manuscript Production and Noble and Princely Book Ownership in the Burgundian Netherlands (1400-1550)*, Brepols, 2010.\n",
    "- E.  Buringh,  *Medieval  Manuscript  Production  in  the  Latin  West,  Explorations  with  a Global Database*, Brill, 2011.\n",
    "- U. Neddermeyer, *Von der Handschrift zum gedruckten Buch. Schriftlichkeit und Leseinteresse im Mittelalter und in der frühen Neuzeit. Quantitative und qualitative Aspekte*. Harrassowitz, 1998.\n",
    "\n",
    "Wijsman is the source also cited by Van Oostrom. Middle Dutch chivalric epics are vernacular texts, typically extant in less luxurious, frequently unillustrated manuscripts. For this type of sources, Wijsman estimates an overall survival rate of ~7% for these artifacts -- this loss is naturally much more elevated than for the actual manuscripts, as texts often survive in more than one witnesss. We will use this number as a \"baseline\" below.\n",
    "\n",
    "Such data from historical collection catalogues are great and likely very thrustworthy but they come with two issues:\n",
    "- These collections often come from specific (e.g. monastic) environments but makes it hard to extrapolate them to other collection milieus.\n",
    "- Such inventories aren't all that frequent: they fact that some of these survived at all, already tells us something about the (unusual protectiveness of?) the environment in which they survived.\n",
    "\n",
    "The representativeness of these sources is thus not without problems, and we would have have an alternative method to verify or corroborate those findings, that would be great."
   ]
  },
  {
   "cell_type": "markdown",
   "metadata": {},
   "source": [
    "### Minimum sampling"
   ]
  },
  {
   "cell_type": "markdown",
   "metadata": {},
   "source": [
    "We now turn to an extension of `Chao1` which was formulated in the following paper:\n",
    "    \n",
    "> A. Chao, R. K. Colwell, C.-W. Lin, N. J. Gotelli, 'Sufficient sampling for asymptotic minimum species richness estimators', *Ecology* 90 (2009) 1125–1133.\n",
    "\n",
    "The estimator introduced here was meant to inform field workers as to the state of their registration efforts. More specifically it extended `Chao1` to attempt and answer the following questions: how many addition samples or \"sightings\" of animals would be required to observe each of the currently still unobserved species *at least once*? (This is a very crude summary: please refer to the paper for the full story.) \n",
    "\n",
    "In our analogy, this translates to: \"How many additional witnesses would we have to find to be able to observe every text that once existed in at least one attestation?\" Let us assume (and this seems reasonable) that most of the currently unobserved \"works\" in our corpus already originally existed in a very low low abundance (i.e. a small number of manuscripts or just a single one per text). This would mean that this estimator can give us a sense of the number of witnesses that originally existed in the corpus and, thus, the loss of documents, rather than works.\n",
    "\n",
    "> *Note*: not only this method again estimates a lower bound, also for other reasons it can be considered a very conservative guess, because it doesn't account for the phenomenon where a presently unknown text might have existed in multiple copies, that are all lost or unknown presently. This is an important caveat, although we expect its effect to be limited in practice."
   ]
  },
  {
   "cell_type": "markdown",
   "metadata": {},
   "source": [
    "The base implementation runs as follows:"
   ]
  },
  {
   "cell_type": "code",
   "execution_count": 22,
   "metadata": {},
   "outputs": [],
   "source": [
    "def minsample(x):\n",
    "    n = x.sum()\n",
    "    x = x[x > 0]\n",
    "    t = x.shape[0]\n",
    "    f1, f2 = (x == 1).sum(), (x == 2).sum()\n",
    "    \n",
    "    h = lambda x: 2 * f1 * (1 + x)\n",
    "    v = lambda x: np.exp(x * (2 * f2 / f1))\n",
    "    \n",
    "    # Note that we resort to a crude grid search\n",
    "    # because scipy's optimization routine\n",
    "    # regularly got stuck. (See appendix)\n",
    "    search_space = np.linspace(0, 100, 1e5)\n",
    "    hs = np.array(h(search_space))\n",
    "    vs = np.array(v(search_space))\n",
    "    diffs = np.abs(hs - vs)\n",
    "    x_ast = search_space[diffs.argmin()]\n",
    "    return n + n * x_ast"
   ]
  },
  {
   "cell_type": "markdown",
   "metadata": {},
   "source": [
    "What is the survival rate of documents in this corpus, according to this method?"
   ]
  },
  {
   "cell_type": "code",
   "execution_count": 26,
   "metadata": {},
   "outputs": [
    {
     "name": "stdout",
     "output_type": "stream",
     "text": [
      "Estimate: 7.540271105618388 % of documents survived\n"
     ]
    }
   ],
   "source": [
    "ms = minsample(cnts)\n",
    "print('Estimate:', 100 / (minsample(cnts) / cnts.sum()), '% of documents survived')"
   ]
  },
  {
   "cell_type": "markdown",
   "metadata": {},
   "source": [
    "Also here, a bootstrap can give us a better sense of the uncertainty, which is again not to be ignored: "
   ]
  },
  {
   "cell_type": "code",
   "execution_count": 27,
   "metadata": {},
   "outputs": [],
   "source": [
    "def minsample_estimate(x, n_iter=10000, conf=0.95):\n",
    "    pro = minsample(x)\n",
    "    (lci_pro, uci_pro, sd_pro, bt_pro) = bootstrap(x, fn=minsample, n_iter=n_iter, conf=conf)\n",
    "    lci_pro, uci_pro = pro - lci_pro, pro + uci_pro\n",
    "    bt_pro = pro - bt_pro\n",
    "    return (lci_pro, uci_pro, bt_pro, pro)"
   ]
  },
  {
   "cell_type": "code",
   "execution_count": 28,
   "metadata": {},
   "outputs": [
    {
     "name": "stdout",
     "output_type": "stream",
     "text": [
      "Minimum sampling: 2214.77 CI(1234.13 - 4108.23)\n"
     ]
    }
   ],
   "source": [
    "lci, uci, bt_msample, ms = minsample_estimate(cnts)\n",
    "print(f'Minimum sampling: {ms:.2f} CI({lci:.2f} - {uci:.2f})')"
   ]
  },
  {
   "cell_type": "markdown",
   "metadata": {},
   "source": [
    "As you can see, the CI is very wide... Nevertheless, it is surprising that the core estimate (8.2%) is *surprisingly* close to Wijsman's estimate (~7%), although both methods use entirely different data. This needs much more work of course, but this result is very promising. "
   ]
  },
  {
   "cell_type": "markdown",
   "metadata": {},
   "source": [
    "## Species Accumulation curve, with miminum sampling effort included"
   ]
  },
  {
   "cell_type": "markdown",
   "metadata": {},
   "source": [
    "In this, we produce a new kind of plot, where we combine the species accumulation curve (from above, for *works*), with a visualization of the distribution of the bootstrap values from the minimal sampling approach (for *documents*)."
   ]
  },
  {
   "cell_type": "code",
   "execution_count": 29,
   "metadata": {},
   "outputs": [],
   "source": [
    "def bootstrap_re(x, fn=chao_richness, n_iter=1000, conf=.95):\n",
    "    # define a multinomial probability distribution\n",
    "    # for the bootstrap procedure to sample from:\n",
    "    p, n = bt_prob(x), x.sum()\n",
    "    data_bt = np.random.multinomial(n, p, n_iter)\n",
    "    \n",
    "    Dq = fn(x)\n",
    "    \n",
    "    pro = np.array([fn(row) for row in data_bt])\n",
    "    \n",
    "    error = stats.norm.ppf(1 - (1 - conf) / 2) * np.std(pro, 0)\n",
    "    lci_pro = Dq - error\n",
    "    uci_pro = Dq + error\n",
    "\n",
    "    sd_pro = np.std(pro, axis=0)\n",
    "\n",
    "    return (lci_pro, uci_pro, sd_pro, Dq, )\n",
    "\n",
    "\n",
    "def rarefaction_extrapolation(x, max_steps):\n",
    "    x, n = x[x > 0], x.sum()\n",
    "    def _sub(m):\n",
    "        if m <= n:\n",
    "            return np.sum(1 - np.array(\n",
    "                [np.exp(gammaln(n - i + 1) + gammaln(n - m + 1) - \n",
    "                        gammaln(n - i - m + 1) - gammaln(n + 1)) if i <= (n - m) else\n",
    "                 0 for i in x]))\n",
    "        else:\n",
    "            S = (x > 0).sum()\n",
    "            f1, f2 = (x == 1).sum(), (x == 2).sum()\n",
    "            f0 = ((n - 1) / n * f1 * (f1 - 1) / 2) if f2 == 0 else ((n - 1) / n * f1**2 / 2 / f2)\n",
    "            A = n * f0 / (n * f0 + f1)\n",
    "            return S if f1 == 0 else (S + f0 * (1 - A**(m - n)))\n",
    "    return np.array([_sub(mi) for mi in range(1, max_steps)])"
   ]
  },
  {
   "cell_type": "code",
   "execution_count": 30,
   "metadata": {},
   "outputs": [],
   "source": [
    "num_docs = len(cnts) + int(minsample(cnts)) # n + m\n",
    "lci_pro, uci_pro, sd_pro, Dq = bootstrap_re(cnts, fn=partial(rarefaction_extrapolation, max_steps=num_docs),\n",
    "                                            n_iter=100)"
   ]
  },
  {
   "cell_type": "code",
   "execution_count": 31,
   "metadata": {},
   "outputs": [
    {
     "data": {
      "image/png": "[encoded data removed]",
      "text/plain": [
       "<Figure size 432x288 with 2 Axes>"
      ]
     },
     "metadata": {
      "needs_background": "light"
     },
     "output_type": "display_data"
    }
   ],
   "source": [
    "steps = np.arange(1, num_docs)\n",
    "interpolated = np.arange(1, num_docs) < cnts.sum()\n",
    "figure = plt.Figure(figsize=(8, 6))\n",
    "plt.plot(steps[interpolated], Dq[interpolated], color='C0')\n",
    "plt.plot(cnts.sum(), Dq[cnts.sum() - 1], 'o')\n",
    "plt.plot(steps[~interpolated], Dq[~interpolated], '--', color='C0')\n",
    "plt.fill_between(steps, lci_pro, uci_pro, alpha=0.3)\n",
    "plt.grid()\n",
    "plt.axvline(ms, ls='--', c='grey')\n",
    "plt.xlabel('documents')\n",
    "plt.ylabel('works')\n",
    "plt.title('Species Accumulation Curve')\n",
    "ax2 = plt.gca().twinx()\n",
    "ax2.plot(np.nan, '--', color='C0', label='species accumulation')\n",
    "sb.kdeplot(bt_msample, ax=ax2, color='grey', shade=True, label='minumum sampling')\n",
    "sb.kdeplot(mac_chao1_pro, ax=ax2, color='green', shade=True, label='maculature')\n",
    "ax2.legend(loc='center right')\n",
    "plt.xlim([0, 5000])\n",
    "plt.savefig('../figures/accumulation.pdf');"
   ]
  },
  {
   "cell_type": "markdown",
   "metadata": {},
   "source": [
    "## Simulations"
   ]
  },
  {
   "cell_type": "markdown",
   "metadata": {},
   "source": [
    "How well do these estimators perform? Like in many neighboring fields (such as archeology), we have no way to directly evaluate the numbers above (apart from comparing them, of course, to previous work in the field, like Wijsman's or Buringh's). Commonly, scholars therefore turn to simulations, in which we mimic assemblages with the same properties as our medieval data and then artificially impair then, by throwing away documents in a random or stochastic manner. Next, we can apply the diversity estimators from above and see how well they can estimate the original size and diversity of the artifically impaired population. This evaluation strategy isn't perfect, but it's in many ways the best we have. In this section, we described how we went about this."
   ]
  },
  {
   "cell_type": "markdown",
   "metadata": {},
   "source": [
    "A first and crucial step is to determine the shape of the distribution of the artificial population that we will generate. Preferably, this would be the kind of long-tail distribution that is typical of cultural data in general -- and also of our texts. Informally, only a few items should be very abundant, whereas the bulk of species should have a very low abundance (as singletons or doubletons).\n",
    "\n",
    "In a seminal paper on Malaysian butterflies, R.A. Fischer proposed the logseries model to capture the relative abundance of species in an assemblage. The logseries predicts the number of species at different levels of abundance ($n$ individuals) with the formula:"
   ]
  },
  {
   "cell_type": "markdown",
   "metadata": {},
   "source": [
    "\\begin{equation*}\n",
    "S_n = \\alpha x^n / n\n",
    "\\end{equation*}"
   ]
  },
  {
   "cell_type": "markdown",
   "metadata": {},
   "source": [
    "In code:"
   ]
  },
  {
   "cell_type": "code",
   "execution_count": null,
   "metadata": {},
   "outputs": [],
   "source": [
    "def fisher_richness(idx, alpha, x_):\n",
    "    return (alpha * (x_ ** idx)) / idx"
   ]
  },
  {
   "cell_type": "markdown",
   "metadata": {},
   "source": [
    "Here, $S_n$ is the number of species with an abundance of $n$; $x$ = a positive constant ($0 < x < 1$) which is derived from the sample data set but generally approaches 1; $\\alpha$ finally is the number of singleton species in the assemblage. We can fit this model to the Middle Dutch data (that seems to follow a surprisingly similar distribution):"
   ]
  },
  {
   "cell_type": "code",
   "execution_count": null,
   "metadata": {},
   "outputs": [],
   "source": [
    "counts = df.groupby('work').size().sort_values(ascending=False).values\n",
    "n_s = np.array(list(range(1, 20)))\n",
    "abundance = np.array([np.sum(counts == i) / np.sum(counts) for i in n_s])\n",
    "\n",
    "popt, pcov = optim.curve_fit(fisher_richness, xdata=n_s, ydata=abundance,\n",
    "                             bounds=([0, 0.7], [100, 1.05]))\n",
    "plt.plot(n_s, fisher_richness(n_s, *popt), 'g--',\n",
    "         label='fit: alpha=%5.3f, x=%5.3f' % tuple(popt))\n",
    "plt.plot(n_s, abundance, 'o', label='data', alpha=0.5);\n",
    "plt.legend();"
   ]
  },
  {
   "cell_type": "markdown",
   "metadata": {},
   "source": [
    "Fisher's logseries can be used to define a discrete probability distribution, parametrized by two values:\n",
    "\n",
    "- the number of singleton species in the population\n",
    "- the maximum number of attestations for a single species (to put a practical cap on the distribution)\n",
    "\n",
    "If we sample $num\\_species$ species from this probability distribution, we can simulate virtual assemblages that mimic the properties of the observed data."
   ]
  },
  {
   "cell_type": "code",
   "execution_count": null,
   "metadata": {},
   "outputs": [],
   "source": [
    "def fisher_pop(n, alpha=0.9, x=5, num_species=600):\n",
    "    \"\"\"\n",
    "    alpha = number of singleton species (f1)\n",
    "    n = max attestation frequency of a particular species\n",
    "    x = constant [0, 1], approx. 1\n",
    "    \"\"\"\n",
    "    orders = np.array([fisher_richness(i, alpha, x) for i in range(1, n + 1)])\n",
    "    props = orders / orders.sum()\n",
    "    assemblage = []\n",
    "    elements = [i + 1 for i in np.arange(n)]\n",
    "    for idx, sample in enumerate(np.random.choice(elements, num_species + 1, p=props)):\n",
    "        assemblage.extend(sample * [idx])\n",
    "    return np.array(assemblage)\n",
    "\n",
    "assemblage = fisher_pop(n=50, alpha=75, x=.99, num_species=250)\n",
    "assemblage"
   ]
  },
  {
   "cell_type": "markdown",
   "metadata": {},
   "source": [
    "Let us plot this distribution:"
   ]
  },
  {
   "cell_type": "code",
   "execution_count": null,
   "metadata": {},
   "outputs": [],
   "source": [
    "plt.figure(figsize=(15, 3))\n",
    "abundance_cnt = np.bincount(assemblage)[1:]\n",
    "labels, counts = np.unique(abundance_cnt, return_counts=True)\n",
    "plt.bar(labels, counts, align='center', alpha=0.7)\n",
    "plt.gca().set_xticks(labels);"
   ]
  },
  {
   "cell_type": "markdown",
   "metadata": {},
   "source": [
    "We can check whether we got what we wanted via some general statistics:"
   ]
  },
  {
   "cell_type": "code",
   "execution_count": null,
   "metadata": {},
   "outputs": [],
   "source": [
    "print('# works:',  len(abundance_cnt))\n",
    "print('# documents:', abundance_cnt.sum())\n",
    "print('# singletons:', abundance_cnt[abundance_cnt == 1].sum(),\n",
    "      f'({abundance_cnt[abundance_cnt == 1].sum()/len(abundance_cnt) * 100 :.2f}%)')"
   ]
  },
  {
   "cell_type": "markdown",
   "metadata": {},
   "source": [
    "Next, we can stochastically sample (at certain \"keep rates\") from this population to simulate the historic loss of documents:"
   ]
  },
  {
   "cell_type": "code",
   "execution_count": null,
   "metadata": {},
   "outputs": [],
   "source": [
    "def loss(assemblage_, keep_rate):\n",
    "    assemblage_ = list(assemblage_)\n",
    "    np.random.shuffle(assemblage_)\n",
    "    retrieved = assemblage_[:int(len(assemblage_) * keep_rate)]\n",
    "    return np.array(retrieved)\n",
    "\n",
    "retrieved = loss(assemblage, keep_rate=0.20)\n",
    "print(retrieved)"
   ]
  },
  {
   "cell_type": "markdown",
   "metadata": {},
   "source": [
    "Let us check what this sampling did to our statistics:"
   ]
  },
  {
   "cell_type": "code",
   "execution_count": null,
   "metadata": {},
   "outputs": [],
   "source": [
    "_, impaired_counts = np.unique(retrieved, return_counts=True)\n",
    "print('Impaired population:')\n",
    "print('# works:',  len(impaired_counts))\n",
    "print('# documents:', impaired_counts.sum())\n",
    "print('# singletons:', impaired_counts[impaired_counts == 1].sum(),\n",
    "      f'({impaired_counts[impaired_counts == 1].sum()/len(impaired_counts) * 100:.2f}%)')"
   ]
  },
  {
   "cell_type": "markdown",
   "metadata": {},
   "source": [
    "This makes sense (as is also illustrated in the plot below): the number of documents goes down by a factor of roughly the keep rate. Inevitably, we also lose some works, but not at the same rate, since we primarily lose those works that existed in low abundance in the original population. Perhaps counterintuitively, this also implies that the number of singletons proportionally goes up in the impaired sample."
   ]
  },
  {
   "cell_type": "code",
   "execution_count": null,
   "metadata": {},
   "outputs": [],
   "source": [
    "plt.figure(figsize=(15, 3))\n",
    "abundance_cnt = np.bincount(assemblage)[1:]\n",
    "labels, counts = np.unique(abundance_cnt, return_counts=True)\n",
    "plt.bar(labels, counts, align='center', alpha=0.5, label='original')\n",
    "\n",
    "impaired_labels_, impaired_counts_ = np.unique(impaired_counts, return_counts=True)\n",
    "plt.bar(impaired_labels_, impaired_counts_, align='center', alpha=0.5, label='retrieved')\n",
    "plt.legend();"
   ]
  },
  {
   "cell_type": "markdown",
   "metadata": {},
   "source": [
    "We can now apply our estimators to the impaired data and have them estimate the diversity of the original population:"
   ]
  },
  {
   "cell_type": "code",
   "execution_count": null,
   "metadata": {},
   "outputs": [],
   "source": [
    "print('Chao1:', chao_richness(impaired_counts))\n",
    "print('Jackknife:', jackknife(impaired_counts)[0])\n",
    "print('Egghe & Proot:', ep(impaired_counts))"
   ]
  },
  {
   "cell_type": "markdown",
   "metadata": {},
   "source": [
    "As usual, `Chao1` is more cautious in this estimation."
   ]
  },
  {
   "cell_type": "markdown",
   "metadata": {},
   "source": [
    "### Loss of works"
   ]
  },
  {
   "cell_type": "markdown",
   "metadata": {},
   "source": [
    "To look at the reconstruction capacity of the estimators, we now set up a more principled series of experiments. In this, we generate a large number of Fisher-distributed populations that we downsample in a stochastic manner. We then each apply each method to estimate the original diversity and compare that estimate to the observable diversity to measure the difference."
   ]
  },
  {
   "cell_type": "markdown",
   "metadata": {},
   "source": [
    "Throughout our experiments, we vary a number of important parameters (the number of documents, the keep rate) at linear intervals; others are kept stable (the number of works, $f1$ and $x$):"
   ]
  },
  {
   "cell_type": "code",
   "execution_count": null,
   "metadata": {},
   "outputs": [],
   "source": [
    "num_documents = np.arange(500, 2500, 100)\n",
    "keep_rates = np.linspace(0.05, 0.95, len(num_documents))\n",
    "n_experiments = 50\n",
    "\n",
    "num_works = 250\n",
    "f1 = 75\n",
    "x = .99"
   ]
  },
  {
   "cell_type": "markdown",
   "metadata": {},
   "source": [
    "Note that this process is repeated for each unique setting for 50 times. We now run the simulations and record the results in a `DataFrame`:"
   ]
  },
  {
   "cell_type": "code",
   "execution_count": null,
   "metadata": {},
   "outputs": [],
   "source": [
    "results, doc_results = [], []\n",
    "for i, num_doc in enumerate(tqdm(num_documents)):\n",
    "    for kr in keep_rates: \n",
    "        for j in range(n_experiments):\n",
    "            assemblage = fisher_pop(n=num_doc, alpha=f1, x=x, num_species=num_works)\n",
    "            retrieved = loss(assemblage, keep_rate=kr)\n",
    "            _, impaired_counts = np.unique(retrieved, return_counts=True)\n",
    "            results.append({'keep rate': kr, 'estimator': 'Egghe & Proot',\n",
    "                            'diversity': ep(impaired_counts, alpha=50),\n",
    "                            'num_documents': num_doc})\n",
    "            results.append({'keep rate': kr, 'estimator': 'Jackknife',\n",
    "                            'diversity': jackknife(impaired_counts)[0],\n",
    "                            'num_documents': num_doc})\n",
    "            results.append({'keep rate': kr, 'estimator': 'Chao1',\n",
    "                            'diversity': chao_richness(impaired_counts),\n",
    "                            'num_documents': i})\n",
    "\n",
    "S_df = pd.DataFrame(results)"
   ]
  },
  {
   "cell_type": "markdown",
   "metadata": {},
   "source": [
    "We are now ready to calculate the results. Note that we use a straightforward absolute error measure below (instead of the conventional root mean-squared error) to keep track of the direction of the error: we would like to know whether a metric is under-shooting of over-shooting."
   ]
  },
  {
   "cell_type": "code",
   "execution_count": null,
   "metadata": {},
   "outputs": [],
   "source": [
    "S_df['Error'] = S_df['diversity'] - num_works # the diversity is a constant!\n",
    "S_df['AbsError'] = np.abs(S_df['Error'])\n",
    "S_df.head(10)"
   ]
  },
  {
   "cell_type": "markdown",
   "metadata": {},
   "source": [
    "First, let's do a violin plot for our three estimators, where the grey line indicates the correct value of 250:"
   ]
  },
  {
   "cell_type": "code",
   "execution_count": null,
   "metadata": {},
   "outputs": [],
   "source": [
    "ax = sb.violinplot(x=\"estimator\", y=\"diversity\", data=S_df)\n",
    "ax.axhline(num_works, ls='--', c='grey')\n",
    "plt.title('Reconstructed richness (original = 250)')\n",
    "plt.tight_layout()\n",
    "plt.ylabel('Estimated diversity')\n",
    "plt.savefig('../figures/violin.pdf');"
   ]
  },
  {
   "cell_type": "markdown",
   "metadata": {},
   "source": [
    "Finally, let's plot the result of the keep rate, fitting a linear trendline to the scores for each estimator:"
   ]
  },
  {
   "cell_type": "code",
   "execution_count": null,
   "metadata": {},
   "outputs": [],
   "source": [
    "g = sb.lmplot(x=\"keep rate\", y=\"AbsError\", hue=\"estimator\", order=1,\n",
    "              ci=95, data=S_df, scatter_kws={'alpha':0.3}, height=7, aspect=1.6)\n",
    "plt.title('Absolute reconstruction error (as a function of the per-simulation loss rate)')\n",
    "plt.subplots_adjust(top=0.9)\n",
    "plt.ylabel('Absolute error')"
   ]
  },
  {
   "cell_type": "markdown",
   "metadata": {},
   "source": [
    "Note that the first-order trendline somewhat hides that `Chao1`, while it is the clearly the best metric overall, doesn't perform the best for extremely small keep rates:"
   ]
  },
  {
   "cell_type": "code",
   "execution_count": null,
   "metadata": {},
   "outputs": [],
   "source": [
    "g = sb.lmplot(x=\"keep rate\", y=\"AbsError\", hue=\"estimator\", order=2,\n",
    "              ci=95, data=S_df, scatter_kws={'alpha':0.3}, height=8, aspect=1.5)\n",
    "plt.title('Absolute reconstruction error (as a function of the per-simulation loss rate)')\n",
    "plt.subplots_adjust(top=0.9)\n",
    "plt.ylabel('Absolute error')\n",
    "plt.savefig('../figures/lossrates.pdf');"
   ]
  },
  {
   "cell_type": "markdown",
   "metadata": {},
   "source": [
    "### Technical appendix: Chao1's minimum sampling extension"
   ]
  },
  {
   "cell_type": "markdown",
   "metadata": {},
   "source": [
    "The extension of `Chao1` for the minimum sampling is in less wide use, so that we provide a little bit more details in this section to verify our implementation's integrity. As can be read in the paper, the goal is to solve an equation to find out where two functions, $h(x)$ and $v(x)$, intersect (for the first and only time):\n",
    "\n",
    "- $h(x) = 2f_1(1+x)$\n",
    "- $v(x) = exp[x(2f_2/f_1)]$"
   ]
  },
  {
   "cell_type": "markdown",
   "metadata": {},
   "source": [
    "Let us plot these functions first for some example data, following the screenshot of the Excel application, provided by Chao et al. in their [supplementary information](https://doi.org/10.6084/m9.figshare.c.3300935.v1) to the original paper. Here goes a partial screenshot of their example:"
   ]
  },
  {
   "cell_type": "markdown",
   "metadata": {},
   "source": [
    "![Screenshot of the appendix to Chao et al.](https://raw.githubusercontent.com/mikekestemont/minsampling/master/figures/ex_curve.png)"
   ]
  },
  {
   "cell_type": "markdown",
   "metadata": {},
   "source": [
    "Note that we are interested only in the case of $g=1$, i.e. the situation where we would to observe *all* previously unobserved species. The three base variables can be copied:"
   ]
  },
  {
   "cell_type": "code",
   "execution_count": null,
   "metadata": {},
   "outputs": [],
   "source": [
    "f1 = 3\n",
    "f2 = 2\n",
    "n = 161"
   ]
  },
  {
   "cell_type": "markdown",
   "metadata": {},
   "source": [
    "We can now plot $h(x)$ and $v(x)$ in a suitable range of $x$:"
   ]
  },
  {
   "cell_type": "code",
   "execution_count": null,
   "metadata": {},
   "outputs": [],
   "source": [
    "x = np.linspace(1, 3, 100)\n",
    "plt.plot(x, 2 * f1 * (1 + x), label='$h(x)$')\n",
    "plt.plot(x, np.exp(x * (2 * f2 / f1)), label='$v(x)$')\n",
    "plt.xlabel('x')\n",
    "plt.tight_layout()\n",
    "plt.legend();"
   ]
  },
  {
   "cell_type": "markdown",
   "metadata": {},
   "source": [
    "We need to find out where these two lines intersect (i.e. where the differences is approximately zero). With scipy, we could use an optimization approach as follows:"
   ]
  },
  {
   "cell_type": "code",
   "execution_count": null,
   "metadata": {},
   "outputs": [],
   "source": [
    "from scipy.optimize import fsolve\n",
    "\n",
    "def intersection(func1, func2, x0):\n",
    "    return fsolve(lambda x: func1(x) - func2(x), x0)[0]\n",
    "\n",
    "h = lambda x: 2 * f1 * (1 + x)\n",
    "v = lambda x: np.exp(x * (2 * f2 / f1))"
   ]
  },
  {
   "cell_type": "markdown",
   "metadata": {},
   "source": [
    "We can set $x0$ (the starting point for the Newtonian optimization) pragmatically to $n$ to calculate $x^*$:"
   ]
  },
  {
   "cell_type": "code",
   "execution_count": null,
   "metadata": {},
   "outputs": [],
   "source": [
    "x_ast = intersection(h, v, n)\n",
    "x_ast"
   ]
  },
  {
   "cell_type": "markdown",
   "metadata": {},
   "source": [
    "Or visually:"
   ]
  },
  {
   "cell_type": "code",
   "execution_count": null,
   "metadata": {},
   "outputs": [],
   "source": [
    "x = np.linspace(1, 3, 100)\n",
    "plt.plot(x, 2 * f1 * (1 + x), label='$h(x)$')\n",
    "plt.plot(x, np.exp(x * (2 * f2 / f1)), label='$v(x)$')\n",
    "plt.axvline(x_ast, linestyle='--', c='grey')\n",
    "plt.xlabel('x')\n",
    "plt.legend();"
   ]
  },
  {
   "cell_type": "markdown",
   "metadata": {},
   "source": [
    "Then, following the paper, we can calculate $m=nx*$:"
   ]
  },
  {
   "cell_type": "code",
   "execution_count": null,
   "metadata": {},
   "outputs": [],
   "source": [
    "m = n * x_ast\n",
    "m"
   ]
  },
  {
   "cell_type": "markdown",
   "metadata": {},
   "source": [
    "Above, we resort to a simple grid search however to determine $x^*$, because SciPy's optimization routine often got stuck and it was difficult to initialize it properly. This solution is less elegant of course, but worked better for us in practice. That goes as follows:"
   ]
  },
  {
   "cell_type": "code",
   "execution_count": null,
   "metadata": {},
   "outputs": [],
   "source": [
    "search_space = np.linspace(0, 100, 1e5)\n",
    "hs = np.array(h(search_space))\n",
    "vs = np.array(v(search_space))\n",
    "diffs = np.abs(hs - vs)\n",
    "x_ast = search_space[diffs.argmin()]\n",
    "print(n * x_ast)"
   ]
  },
  {
   "cell_type": "markdown",
   "metadata": {},
   "source": [
    "This code approximates to a reasonable extent the numbers reported in Chao et al.'s appendix."
   ]
  }
 ],
 "metadata": {
  "kernelspec": {
   "display_name": "CHR2020",
   "language": "python",
   "name": "chr2020"
  },
  "language_info": {
   "codemirror_mode": {
    "name": "ipython",
    "version": 3
   },
   "file_extension": ".py",
   "mimetype": "text/x-python",
   "name": "python",
   "nbconvert_exporter": "python",
   "pygments_lexer": "ipython3",
   "version": "3.6.10"
  }
 },
 "nbformat": 4,
 "nbformat_minor": 4
}
